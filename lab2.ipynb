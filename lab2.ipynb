{
 "cells": [
  {
   "cell_type": "code",
   "execution_count": 1,
   "metadata": {},
   "outputs": [],
   "source": [
    "import edlib\n",
    "import numpy as np\n",
    "import heapq\n",
    "import time\n",
    "from Bio.Seq import Seq\n",
    "import copy\n",
    "import matplotlib.pyplot as plt\n",
    "def rc(seq):\n",
    "    return str(Seq(seq).reverse_complement())\n",
    "def calculate_distance(ref, query, ref_st, ref_en, query_st, query_en):\n",
    "    A = ref[ref_st: ref_en]\n",
    "    a = query[query_st: query_en]\n",
    "    # _a = rc(query[query_st: query_en])\n",
    "    # return min(edlib.align(A, a)['editDistance'], edlib.align(A, _a)['editDistance'])\n",
    "    return edlib.align(A, a)['editDistance']\n",
    "\n",
    "def calculate_value(points, ref, query,penalty):  \n",
    "    try:\n",
    "        editdistance = 0\n",
    "        aligned = 0\n",
    "        preend = 0\n",
    "        for onetuple in points:\n",
    "            query_st, query_en, ref_st, ref_en = onetuple[0], onetuple[1], onetuple[2], onetuple[3]\n",
    "            if(preend > query_st):#检测重叠\n",
    "                return 0\n",
    "            preend = query_en\n",
    "            editdistance += calculate_distance(ref, query, ref_st, ref_en, query_st, query_en)\n",
    "            aligned += query_en - query_st\n",
    "        return max(aligned - editdistance - len(points) * penalty,0) #额外的惩罚碎片化的输出\n",
    "    except:\n",
    "        return 0"
   ]
  },
  {
   "cell_type": "code",
   "execution_count": 2,
   "metadata": {},
   "outputs": [],
   "source": [
    "def simulated_annealing(origin,update,scoring,t0,kt=0.97,round=20,printf=False):\n",
    "    score=scoring(origin)\n",
    "    data=origin\n",
    "\n",
    "    final=data\n",
    "    final_score=score\n",
    "    while(t0>=1):\n",
    "        for i in range(round):\n",
    "            nxt_data=update(data,t0)\n",
    "            nxt_score=scoring(nxt_data)\n",
    "\n",
    "            delta=nxt_score-score\n",
    "            if(np.exp(delta/t0)>np.random.rand()):\n",
    "                data=nxt_data\n",
    "                score=nxt_score\n",
    "                if(printf):print(data,score)\n",
    "                if(score>final_score):\n",
    "                    final,final_score=data,score\n",
    "        data=final\n",
    "        score=final_score\n",
    "        t0*=kt\n",
    "        if(printf):print(t0)\n",
    "    return final,final_score"
   ]
  },
  {
   "cell_type": "code",
   "execution_count": 3,
   "metadata": {},
   "outputs": [],
   "source": [
    "class PhaseMatch:\n",
    "    def __init__(self,l,r,ml):\n",
    "        self.l=l\n",
    "        self.r=r\n",
    "        self.scorelist=ml\n",
    "\n",
    "def printPhaseMatch(l,topk):\n",
    "    for i in l:\n",
    "        for j in range(len(i.scorelist)):\n",
    "            color=1/topk*j\n",
    "            if(i.scorelist[j][1]>i.scorelist[j][2]):color=(0,0,1-color)\n",
    "            else:color=(1-color,0,0)\n",
    "            plt.plot((i.l,i.r),(i.scorelist[j][1],i.scorelist[j][2]),color=color)\n",
    "    plt.show()"
   ]
  },
  {
   "cell_type": "code",
   "execution_count": 4,
   "metadata": {},
   "outputs": [],
   "source": [
    "import tqdm\n",
    "def DNA_match(reference,sample,seglen,penalty,topk):\n",
    "    match_list=[]\n",
    "    for i in range(0,len(sample),seglen):\n",
    "        ri=min(i+seglen,len(sample))\n",
    "        scorelist=[]\n",
    "        for j in range(0,len(reference),seglen):\n",
    "            rj=min(j+seglen,len(sample))\n",
    "            scorelist.append((ri-i-edlib.align(reference[j:rj],sample[i:ri])['editDistance'],j,rj))\n",
    "        scorelist=heapq.nlargest(topk,scorelist)\n",
    "\n",
    "        for j in range(len(scorelist)):\n",
    "\n",
    "            origin=[[i,ri,scorelist[j][1],scorelist[j][2]]]\n",
    "            def update(data,t0):\n",
    "                dv=max(int(t0),5)\n",
    "                newdata=copy.deepcopy(data)\n",
    "                newdata[0][2]+=np.random.randint(-dv,dv)\n",
    "                newdata[0][2]=np.clip(newdata[0][2],0,len(reference))\n",
    "                newdata[0][3]+=np.random.randint(-dv,dv)\n",
    "                newdata[0][3]=np.clip(newdata[0][3],0,len(reference))\n",
    "                return newdata\n",
    "            def scoring(data):\n",
    "                return calculate_value(data,reference,sample,penalty)\n",
    "            data,score=simulated_annealing(origin,update,scoring,3,0.97,5)\n",
    "            scorelist[j]=(score,data[0][2],data[0][3])\n",
    "        \n",
    "        while len(scorelist)>0 and scorelist[-1][0]<=0:scorelist.pop()\n",
    "        if(len(scorelist)>0):\n",
    "            match_list.append((PhaseMatch(i,ri,scorelist),1))\n",
    "\n",
    "    while True:\n",
    "        mergel=0\n",
    "        new_match_list=[]\n",
    "        with tqdm.tqdm(total=len(match_list)) as pbar:\n",
    "            while(mergel<len(match_list)):\n",
    "                if(mergel==len(match_list)-1):\n",
    "                    new_match_list.append((match_list[mergel][0],0))\n",
    "                    break\n",
    "                if match_list[mergel][1]==0 and match_list[mergel+1][1]==0:\n",
    "                    new_match_list.append((match_list[mergel][0],0))\n",
    "                    mergel+=1\n",
    "                    pbar.update(1)\n",
    "                    continue\n",
    "                l=match_list[mergel][0].l\n",
    "                r=match_list[mergel+1][0].r\n",
    "                lenl=match_list[mergel][0].r-match_list[mergel][0].l\n",
    "                lenr=match_list[mergel+1][0].r-match_list[mergel+1][0].l\n",
    "                scorelist=[]\n",
    "                scorebound=match_list[mergel][0].scorelist[0][0]+match_list[mergel+1][0].scorelist[0][0]\n",
    "                def merge(refl,refr):\n",
    "                    origin=[[l,r,refl,refr]]\n",
    "                    def update(data,t0):\n",
    "                        dv=max(int(t0),10)\n",
    "                        newdata=copy.deepcopy(data)\n",
    "                        newdata[0][2]+=np.random.randint(-dv,dv)\n",
    "                        newdata[0][2]=np.clip(newdata[0][2],0,len(reference))\n",
    "                        newdata[0][3]+=np.random.randint(-dv,dv)\n",
    "                        newdata[0][3]=np.clip(newdata[0][3],0,len(reference))\n",
    "                        return newdata\n",
    "                    def scoring(data):\n",
    "                        return calculate_value(data,reference,sample,penalty)\n",
    "                    data,score=simulated_annealing(origin,update,scoring,max((r-l)//100,5),0.96,10)\n",
    "                    if(score>scorebound):\n",
    "                        def IoU(l1,r1,l2,r2):\n",
    "                            d1=max(r1-l1,0)\n",
    "                            d2=max(r2-l2,0)\n",
    "                            d3=max(min(r1,r2)-max(l1,l2),0)\n",
    "                            if(d3>(d1+d2-d3)*0.9):return False\n",
    "                            else:return True\n",
    "                        flag=True\n",
    "                        for i in scorelist:\n",
    "                            if not IoU(i[1],i[2],data[0][2],data[0][3]):\n",
    "                                flag=False\n",
    "                                break\n",
    "                        if flag:\n",
    "                            scorelist.append((score,data[0][2],data[0][3]))\n",
    "                    \n",
    "                for j in match_list[mergel][0].scorelist:\n",
    "                    merge(j[1],min(j[2]+lenr,len(reference)))\n",
    "                for j in match_list[mergel+1][0].scorelist:\n",
    "                    merge(max(j[1]-lenl,0),j[2])\n",
    "                if(len(scorelist)>0):\n",
    "                    scorelist=heapq.nlargest(topk,scorelist)\n",
    "                    new_match_list.append((PhaseMatch(l,r,scorelist),1))\n",
    "                    pbar.update(2)\n",
    "                    mergel+=2\n",
    "                else:\n",
    "                    new_match_list.append((match_list[mergel][0],0))\n",
    "                    pbar.update(1)\n",
    "                    mergel+=1\n",
    "        if(len(new_match_list)<len(match_list)):\n",
    "            match_list=new_match_list\n",
    "            print(\"segment count: \",len(match_list))\n",
    "        else:\n",
    "            break\n",
    "    return match_list "
   ]
  },
  {
   "cell_type": "code",
   "execution_count": 5,
   "metadata": {},
   "outputs": [
    {
     "name": "stderr",
     "output_type": "stream",
     "text": [
      "100%|██████████| 2848/2848 [19:18<00:00,  2.46it/s]   \n"
     ]
    },
    {
     "name": "stdout",
     "output_type": "stream",
     "text": [
      "segment count:  1424\n"
     ]
    },
    {
     "name": "stderr",
     "output_type": "stream",
     "text": [
      "100%|█████████▉| 1423/1424 [03:58<00:00,  5.97it/s]\n"
     ]
    },
    {
     "name": "stdout",
     "output_type": "stream",
     "text": [
      "segment count:  713\n"
     ]
    },
    {
     "name": "stderr",
     "output_type": "stream",
     "text": [
      "100%|█████████▉| 712/713 [02:23<00:00,  4.96it/s]\n"
     ]
    },
    {
     "name": "stdout",
     "output_type": "stream",
     "text": [
      "segment count:  357\n"
     ]
    },
    {
     "name": "stderr",
     "output_type": "stream",
     "text": [
      "100%|█████████▉| 356/357 [01:34<00:00,  3.75it/s]\n"
     ]
    },
    {
     "name": "stdout",
     "output_type": "stream",
     "text": [
      "segment count:  179\n"
     ]
    },
    {
     "name": "stderr",
     "output_type": "stream",
     "text": [
      "100%|██████████| 179/179 [01:40<00:00,  1.77it/s]\n"
     ]
    },
    {
     "name": "stdout",
     "output_type": "stream",
     "text": [
      "segment count:  90\n"
     ]
    },
    {
     "name": "stderr",
     "output_type": "stream",
     "text": [
      "100%|██████████| 90/90 [02:17<00:00,  1.53s/it]\n"
     ]
    },
    {
     "name": "stdout",
     "output_type": "stream",
     "text": [
      "segment count:  46\n"
     ]
    },
    {
     "name": "stderr",
     "output_type": "stream",
     "text": [
      " 98%|█████████▊| 45/46 [02:54<00:03,  3.87s/it]\n"
     ]
    },
    {
     "name": "stdout",
     "output_type": "stream",
     "text": [
      "segment count:  25\n"
     ]
    },
    {
     "name": "stderr",
     "output_type": "stream",
     "text": [
      " 96%|█████████▌| 24/25 [02:35<00:06,  6.46s/it]\n"
     ]
    },
    {
     "name": "stdout",
     "output_type": "stream",
     "text": [
      "segment count:  17\n"
     ]
    },
    {
     "name": "stderr",
     "output_type": "stream",
     "text": [
      "100%|██████████| 17/17 [02:39<00:00,  9.38s/it]\n"
     ]
    },
    {
     "name": "stdout",
     "output_type": "stream",
     "text": [
      "segment count:  15\n"
     ]
    },
    {
     "name": "stderr",
     "output_type": "stream",
     "text": [
      " 93%|█████████▎| 14/15 [01:44<00:07,  7.46s/it]\n"
     ]
    },
    {
     "data": {
      "image/png": "[encoded data removed]",
      "text/plain": [
       "<Figure size 640x480 with 1 Axes>"
      ]
     },
     "metadata": {},
     "output_type": "display_data"
    }
   ],
   "source": [
    "with open(\"reference.txt\",'r') as file:\n",
    "    reference=file.read()\n",
    "with open(\"sample.txt\",'r') as file:\n",
    "    sample=file.read()\n",
    "\n",
    "topk=7\n",
    "\n",
    "match_list=DNA_match(reference,sample,50,30,topk)\n",
    "for i in range(len(match_list)):match_list[i]=match_list[i][0]\n",
    "printPhaseMatch(match_list,topk)"
   ]
  },
  {
   "cell_type": "code",
   "execution_count": 6,
   "metadata": {},
   "outputs": [
    {
     "name": "stdout",
     "output_type": "stream",
     "text": [
      "[[[50, 11350], [11350, 14550], [14550, 21050], [21050, 27450], [27450, 30750], [30750, 37150], [37150, 43600], [43600, 50250], [50250, 63550], [63550, 76850], [76850, 90550], [90550, 103350], [103350, 116200], [116200, 129150], [129150, 145050]], [[921, 12256], [34447, 37663], [32114, 38648], [33101, 39502], [33953, 37310], [31765, 38162], [32615, 39110], [33563, 40254], [23615, 37022], [20383, 33777], [17145, 30963], [20261, 33102], [16466, 29341], [12699, 25719], [36813, 52802]]]\n",
      "[(50, 11350, 921, 12256), (11350, 14550, 34447, 37663), (14550, 21050, 32114, 38648), (21050, 27450, 33101, 39502), (27450, 30750, 33953, 37310), (30750, 37150, 31765, 38162), (37150, 43600, 32615, 39110), (43600, 50250, 33563, 40254), (50250, 63550, 23615, 37022), (63550, 76850, 20383, 33777), (76850, 90550, 17145, 30963), (90550, 103350, 20261, 33102), (103350, 116200, 16466, 29341), (116200, 129150, 12699, 25719), (129150, 145050, 36813, 52802)]\n",
      "139292\n"
     ]
    }
   ],
   "source": [
    "origin=[[],[]]\n",
    "for i in match_list:\n",
    "    origin[0].append([i.l,i.r])\n",
    "    origin[1].append([i.scorelist[0][1],i.scorelist[0][2]])\n",
    "\n",
    "def trans(data):\n",
    "    l=[]\n",
    "    for i in range(len(data[0])):\n",
    "        l.append((data[0][i][0],data[0][i][1],data[1][i][0],data[1][i][1]))\n",
    "    return l\n",
    "print(origin)\n",
    "print(trans(origin))\n",
    "print(calculate_value(trans(origin),reference,sample,30))\n"
   ]
  },
  {
   "cell_type": "code",
   "execution_count": null,
   "metadata": {},
   "outputs": [
    {
     "name": "stdout",
     "output_type": "stream",
     "text": [
      "0 139337 [(0, 11391, 870, 12297), (11391, 14550, 34487, 37663), (14550, 21050, 32114, 38648), (21050, 27450, 33101, 39502), (27450, 30750, 33953, 37310), (30750, 37150, 31765, 38162), (37150, 43600, 32615, 39110), (43600, 50250, 33563, 40254), (50250, 63550, 23615, 37022), (63550, 76850, 20383, 33777), (76850, 90550, 17145, 30963), (90550, 103350, 20261, 33102), (103350, 116200, 16466, 29341), (116200, 129150, 12699, 25719), (129150, 145050, 36813, 52802)]\n",
      "1 139337 [(0, 11391, 870, 12297), (11391, 14550, 34487, 37663), (14550, 21050, 32114, 38648), (21050, 27450, 33101, 39502), (27450, 30750, 33953, 37310), (30750, 37150, 31765, 38162), (37150, 43600, 32615, 39110), (43600, 50250, 33563, 40254), (50250, 63550, 23615, 37022), (63550, 76850, 20383, 33777), (76850, 90550, 17145, 30963), (90550, 103350, 20261, 33102), (103350, 116200, 16466, 29341), (116200, 129150, 12699, 25719), (129150, 145050, 36813, 52802)]\n",
      "2 139337 [(0, 11391, 870, 12297), (11391, 14550, 34487, 37663), (14550, 21050, 32114, 38648), (21050, 27450, 33101, 39502), (27450, 30750, 33953, 37310), (30750, 37150, 31765, 38162), (37150, 43600, 32615, 39110), (43600, 50250, 33563, 40254), (50250, 63550, 23615, 37022), (63550, 76850, 20383, 33777), (76850, 90550, 17145, 30963), (90550, 103350, 20261, 33102), (103350, 116200, 16466, 29341), (116200, 129150, 12699, 25719), (129150, 145050, 36813, 52802)]\n",
      "3 139339 [(0, 11391, 870, 12297), (11391, 14550, 34487, 37663), (14550, 21050, 32114, 38648), (21050, 27445, 33101, 39496), (27445, 30750, 33948, 37311), (30750, 37150, 31765, 38162), (37150, 43600, 32615, 39110), (43600, 50250, 33563, 40254), (50250, 63550, 23615, 37022), (63550, 76850, 20383, 33777), (76850, 90550, 17145, 30963), (90550, 103350, 20261, 33102), (103350, 116200, 16466, 29341), (116200, 129150, 12699, 25719), (129150, 145050, 36813, 52802)]\n",
      "4 139340 [(0, 11391, 870, 12297), (11391, 14550, 34487, 37663), (14550, 21050, 32114, 38648), (21050, 27445, 33101, 39496), (27445, 30754, 33948, 37315), (30754, 37150, 31767, 38162), (37150, 43600, 32615, 39110), (43600, 50250, 33563, 40254), (50250, 63550, 23615, 37022), (63550, 76850, 20383, 33777), (76850, 90550, 17145, 30963), (90550, 103350, 20261, 33102), (103350, 116200, 16466, 29341), (116200, 129150, 12699, 25719), (129150, 145050, 36813, 52802)]\n",
      "5 139341 [(0, 11391, 870, 12297), (11391, 14550, 34487, 37663), (14550, 21050, 32114, 38648), (21050, 27445, 33101, 39496), (27445, 30754, 33948, 37315), (30754, 37154, 31767, 38166), (37154, 43600, 32621, 39110), (43600, 50250, 33563, 40254), (50250, 63550, 23615, 37022), (63550, 76850, 20383, 33777), (76850, 90550, 17145, 30963), (90550, 103350, 20261, 33102), (103350, 116200, 16466, 29341), (116200, 129150, 12699, 25719), (129150, 145050, 36813, 52802)]\n",
      "6 139341 [(0, 11391, 870, 12297), (11391, 14550, 34487, 37663), (14550, 21050, 32114, 38648), (21050, 27445, 33101, 39496), (27445, 30754, 33948, 37315), (30754, 37154, 31767, 38166), (37154, 43600, 32621, 39110), (43600, 50250, 33563, 40254), (50250, 63550, 23615, 37022), (63550, 76850, 20383, 33777), (76850, 90550, 17145, 30963), (90550, 103350, 20261, 33102), (103350, 116200, 16466, 29341), (116200, 129150, 12699, 25719), (129150, 145050, 36813, 52802)]\n",
      "7 139342 [(0, 11391, 870, 12297), (11391, 14550, 34487, 37663), (14550, 21050, 32114, 38648), (21050, 27445, 33101, 39496), (27445, 30754, 33948, 37315), (30754, 37154, 31767, 38166), (37154, 43600, 32621, 39110), (43600, 50246, 33563, 40251), (50246, 63549, 23611, 37021), (63550, 76850, 20383, 33777), (76850, 90550, 17145, 30963), (90550, 103350, 20261, 33102), (103350, 116200, 16466, 29341), (116200, 129150, 12699, 25719), (129150, 145050, 36813, 52802)]\n",
      "8 139343 [(0, 11391, 870, 12297), (11391, 14550, 34487, 37663), (14550, 21050, 32114, 38648), (21050, 27445, 33101, 39496), (27445, 30754, 33948, 37315), (30754, 37154, 31767, 38166), (37154, 43600, 32621, 39110), (43600, 50246, 33563, 40251), (50246, 63540, 23611, 37012), (63540, 76850, 20373, 33777), (76850, 90550, 17145, 30963), (90550, 103350, 20261, 33102), (103350, 116200, 16466, 29341), (116200, 129150, 12699, 25719), (129150, 145050, 36813, 52802)]\n",
      "9 139343 [(0, 11391, 870, 12297), (11391, 14550, 34487, 37663), (14550, 21050, 32114, 38648), (21050, 27445, 33101, 39496), (27445, 30754, 33948, 37315), (30754, 37154, 31767, 38166), (37154, 43600, 32621, 39110), (43600, 50246, 33563, 40251), (50246, 63540, 23611, 37012), (63540, 76850, 20373, 33777), (76850, 90550, 17145, 30963), (90550, 103350, 20261, 33102), (103350, 116200, 16466, 29341), (116200, 129150, 12699, 25719), (129150, 145050, 36813, 52802)]\n",
      "10 139343 [(0, 11391, 870, 12297), (11391, 14550, 34487, 37663), (14550, 21050, 32114, 38648), (21050, 27445, 33101, 39496), (27445, 30754, 33948, 37315), (30754, 37154, 31767, 38166), (37154, 43600, 32621, 39110), (43600, 50246, 33563, 40251), (50246, 63540, 23611, 37012), (63540, 76850, 20373, 33777), (76850, 90550, 17145, 30963), (90550, 103350, 20261, 33102), (103350, 116200, 16466, 29341), (116200, 129150, 12699, 25719), (129150, 145050, 36813, 52802)]\n",
      "11 139343 [(0, 11391, 870, 12297), (11391, 14550, 34487, 37663), (14550, 21050, 32114, 38648), (21050, 27445, 33101, 39496), (27445, 30754, 33948, 37315), (30754, 37154, 31767, 38166), (37154, 43600, 32621, 39110), (43600, 50246, 33563, 40251), (50246, 63540, 23611, 37012), (63540, 76850, 20373, 33777), (76850, 90550, 17145, 30963), (90550, 103350, 20261, 33102), (103350, 116200, 16466, 29341), (116200, 129150, 12699, 25719), (129150, 145050, 36813, 52802)]\n",
      "12 139344 [(0, 11391, 870, 12297), (11391, 14550, 34487, 37663), (14550, 21050, 32114, 38648), (21050, 27445, 33101, 39496), (27445, 30754, 33948, 37315), (30754, 37154, 31767, 38166), (37154, 43600, 32621, 39110), (43600, 50246, 33563, 40251), (50246, 63540, 23611, 37012), (63540, 76850, 20373, 33777), (76850, 90550, 17145, 30963), (90550, 103350, 20261, 33102), (103350, 116202, 16466, 29343), (116202, 129150, 12701, 25720), (129150, 145050, 36813, 52802)]\n",
      "13 139355 [(0, 11391, 870, 12297), (11391, 14550, 34487, 37663), (14550, 21050, 32114, 38648), (21050, 27445, 33101, 39496), (27445, 30754, 33948, 37315), (30754, 37154, 31767, 38166), (37154, 43600, 32621, 39110), (43600, 50246, 33563, 40251), (50246, 63540, 23611, 37012), (63540, 76850, 20373, 33777), (76850, 90550, 17145, 30963), (90550, 103350, 20261, 33102), (103350, 116202, 16466, 29343), (116202, 129144, 12701, 25714), (129144, 145061, 36807, 52813)]\n",
      "14 139355 [(0, 11391, 870, 12297), (11391, 14550, 34487, 37663), (14550, 21050, 32114, 38648), (21050, 27445, 33101, 39496), (27445, 30754, 33948, 37315), (30754, 37154, 31767, 38166), (37154, 43600, 32621, 39110), (43600, 50246, 33563, 40251), (50246, 63540, 23611, 37012), (63540, 76850, 20373, 33777), (76850, 90550, 17145, 30963), (90550, 103350, 20261, 33102), (103350, 116202, 16466, 29343), (116202, 129144, 12701, 25714), (129144, 145061, 36807, 52813)]\n",
      "15 139355 [(0, 11391, 870, 12297), (11391, 14550, 34487, 37663), (14550, 21050, 32114, 38648), (21050, 27445, 33101, 39496), (27445, 30754, 33948, 37315), (30754, 37154, 31767, 38166), (37154, 43600, 32621, 39110), (43600, 50246, 33563, 40251), (50246, 63540, 23611, 37012), (63540, 76850, 20373, 33777), (76850, 90550, 17145, 30963), (90550, 103350, 20261, 33102), (103350, 116202, 16466, 29343), (116202, 129144, 12701, 25714), (129144, 145061, 36807, 52813)]\n",
      "16 139355 [(0, 11391, 870, 12297), (11391, 14550, 34487, 37663), (14550, 21050, 32114, 38648), (21050, 27445, 33101, 39496), (27445, 30754, 33948, 37315), (30754, 37154, 31767, 38166), (37154, 43600, 32621, 39110), (43600, 50246, 33563, 40251), (50246, 63540, 23611, 37012), (63540, 76850, 20373, 33777), (76850, 90550, 17145, 30963), (90550, 103350, 20261, 33102), (103350, 116202, 16466, 29343), (116202, 129144, 12701, 25714), (129144, 145061, 36807, 52813)]\n",
      "17 139359 [(0, 11391, 870, 12297), (11391, 14550, 34487, 37663), (14550, 21050, 32114, 38648), (21050, 27426, 33101, 39471), (27427, 30754, 33930, 37315), (30754, 37154, 31767, 38166), (37154, 43600, 32621, 39110), (43600, 50246, 33563, 40251), (50246, 63540, 23611, 37012), (63540, 76850, 20373, 33777), (76850, 90550, 17145, 30963), (90550, 103350, 20261, 33102), (103350, 116202, 16466, 29343), (116202, 129144, 12701, 25714), (129144, 145061, 36807, 52813)]\n",
      "18 139359 [(0, 11391, 870, 12297), (11391, 14550, 34487, 37663), (14550, 21050, 32114, 38648), (21050, 27426, 33101, 39471), (27427, 30754, 33930, 37315), (30754, 37154, 31767, 38166), (37154, 43600, 32621, 39110), (43600, 50246, 33563, 40251), (50246, 63540, 23611, 37012), (63540, 76850, 20373, 33777), (76850, 90550, 17145, 30963), (90550, 103350, 20261, 33102), (103350, 116202, 16466, 29343), (116202, 129144, 12701, 25714), (129144, 145061, 36807, 52813)]\n",
      "19 139360 [(0, 11391, 870, 12297), (11391, 14550, 34487, 37663), (14550, 21050, 32114, 38648), (21050, 27426, 33101, 39471), (27427, 30754, 33930, 37315), (30754, 37155, 31767, 38167), (37155, 43600, 32622, 39110), (43600, 50246, 33563, 40251), (50246, 63540, 23611, 37012), (63540, 76850, 20373, 33777), (76850, 90550, 17145, 30963), (90550, 103350, 20261, 33102), (103350, 116202, 16466, 29343), (116202, 129144, 12701, 25714), (129144, 145061, 36807, 52813)]\n",
      "20 139360 [(0, 11391, 870, 12297), (11391, 14550, 34487, 37663), (14550, 21050, 32114, 38648), (21050, 27426, 33101, 39471), (27427, 30754, 33930, 37315), (30754, 37155, 31767, 38167), (37155, 43600, 32622, 39110), (43600, 50246, 33563, 40251), (50246, 63540, 23611, 37012), (63540, 76850, 20373, 33777), (76850, 90550, 17145, 30963), (90550, 103350, 20261, 33102), (103350, 116202, 16466, 29343), (116202, 129144, 12701, 25714), (129144, 145061, 36807, 52813)]\n"
     ]
    }
   ],
   "source": [
    "import numpy as np\n",
    "def trans(data):\n",
    "    l=[]\n",
    "    for i in range(len(data[0])):\n",
    "        l.append((data[0][i][0],data[0][i][1],data[1][i][0],data[1][i][1]))\n",
    "    return l\n",
    "\n",
    "def scoring(data):\n",
    "    return calculate_value(trans(data),reference,sample,30)\n",
    "\n",
    "for round in range(100):\n",
    "    l=round%(len(origin[0])-1)\n",
    "    origin1=[\n",
    "        [[origin[0][l][0],origin[0][l][1]],[origin[0][l+1][0],origin[0][l+1][1]]],\n",
    "        [[origin[1][l][0],origin[1][l][1]],[origin[1][l+1][0],origin[1][l+1][1]]]\n",
    "    ]\n",
    "    saml=0 if l==0 else origin[0][l-1][1]\n",
    "    samr=len(sample) if l+1==len(origin[0])-1 else origin[0][l+2][0]\n",
    "\n",
    "    def update1(data,t0):\n",
    "        newdata=copy.deepcopy(data)\n",
    "        dv=max(int(t0),1)\n",
    "        l=[]\n",
    "        for i in range(len(data[0])):\n",
    "            l.append(np.clip(data[0][i][0]+np.random.randint(-dv,dv),saml,samr))\n",
    "            l.append(np.clip(data[0][i][1]+np.random.randint(-dv,dv),saml,samr))\n",
    "        l.sort()\n",
    "        for i in range(len(data[0])):\n",
    "            newdata[0][i]=[l[i*2],l[i*2+1]]\n",
    "\n",
    "        for i in range(len(data[0])):\n",
    "            def update1(data,t0):\n",
    "                dv=max(int(t0),10)\n",
    "                newdata:list=copy.deepcopy(data)\n",
    "                newdata[0]=newdata[0]+np.random.randint(-dv,dv)\n",
    "                newdata[0]=np.clip(newdata[0],0,len(reference))\n",
    "                newdata[1]=newdata[1]+np.random.randint(-dv,dv)\n",
    "                newdata[1]=np.clip(newdata[1],0,len(reference))\n",
    "                newdata.sort()\n",
    "                return newdata\n",
    "            def scoring1(data1):\n",
    "                return calculate_value([(newdata[0][i][0],newdata[0][i][1],data1[0],data1[1])],reference,sample,30)\n",
    "            \n",
    "            newdata[1][i],score=simulated_annealing(data[1][i],update1,scoring1,t0,0.96,10)\n",
    "        return newdata\n",
    "    \n",
    "    def trans1(data):\n",
    "        l=[]\n",
    "        for i in range(len(data[0])):\n",
    "            l.append((data[0][i][0],data[0][i][1],data[1][i][0],data[1][i][1]))\n",
    "        return l\n",
    "\n",
    "    def scoring1(data):\n",
    "        return calculate_value(trans(data),reference,sample,30)\n",
    "    \n",
    "    data1,score=simulated_annealing(origin1,update1,scoring1,25,0.96,10)\n",
    "    origin[0][l],origin[0][l+1]=data1[0][0],data1[0][1]\n",
    "    origin[1][l],origin[1][l+1]=data1[1][0],data1[1][1]\n",
    "    print(round,scoring(origin),trans(origin),sep=\" \")\n",
    "\n",
    "\n",
    "print(trans(origin))\n",
    "print(scoring(origin))    "
   ]
  }
 ],
 "metadata": {
  "kernelspec": {
   "display_name": "Python 3",
   "language": "python",
   "name": "python3"
  },
  "language_info": {
   "codemirror_mode": {
    "name": "ipython",
    "version": 3
   },
   "file_extension": ".py",
   "mimetype": "text/x-python",
   "name": "python",
   "nbconvert_exporter": "python",
   "pygments_lexer": "ipython3",
   "version": "3.8.20"
  }
 },
 "nbformat": 4,
 "nbformat_minor": 2
}
