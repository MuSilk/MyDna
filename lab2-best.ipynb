{
 "cells": [
  {
   "cell_type": "code",
   "execution_count": null,
   "metadata": {},
   "outputs": [],
   "source": [
    "def calculate_distance(ref:str, sam:str):\n",
    "\n",
    "    n,m=len(ref),len(sam)\n",
    "\n",
    "    dist=range(m + 1)\n",
    "    last=value=0\n",
    "\n",
    "    for i in range(n):\n",
    "        dist[0]=i+1\n",
    "        last=i\n",
    "        for j in range(m):\n",
    "            if ref[i]==sam[j]:\n",
    "                value=last\n",
    "            else:\n",
    "                value=1+min(last,dist[j],dist[j + 1])\n",
    "            last=dist[j+1]\n",
    "            dist[j+1]=value\n",
    "    return value"
   ]
  },
  {
   "cell_type": "code",
   "execution_count": 1,
   "metadata": {},
   "outputs": [],
   "source": [
    "import edlib\n",
    "import numpy as np\n",
    "import heapq\n",
    "import time\n",
    "from Bio.Seq import Seq\n",
    "import copy\n",
    "import matplotlib.pyplot as plt\n",
    "def rc(seq):\n",
    "    return str(Seq(seq).reverse_complement())\n",
    "def calculate_distance(ref, query, ref_st, ref_en, query_st, query_en):\n",
    "    A = ref[ref_st: ref_en]\n",
    "    a = query[query_st: query_en]\n",
    "    # _a = rc(query[query_st: query_en])\n",
    "    # return min(edlib.align(A, a)['editDistance'], edlib.align(A, _a)['editDistance'])\n",
    "    return edlib.align(A, a)['editDistance']\n",
    "\n",
    "def calculate_value(points, ref, query,penalty):  \n",
    "    try:\n",
    "        editdistance = 0\n",
    "        aligned = 0\n",
    "        preend = 0\n",
    "        for onetuple in points:\n",
    "            query_st, query_en, ref_st, ref_en = onetuple[0], onetuple[1], onetuple[2], onetuple[3]\n",
    "            if(preend > query_st):#检测重叠\n",
    "                return 0\n",
    "            preend = query_en\n",
    "            editdistance += calculate_distance(ref, query, ref_st, ref_en, query_st, query_en)\n",
    "            aligned += query_en - query_st\n",
    "        return max(aligned - editdistance - len(points) * penalty,0) #额外的惩罚碎片化的输出\n",
    "    except:\n",
    "        return 0"
   ]
  },
  {
   "cell_type": "code",
   "execution_count": 2,
   "metadata": {},
   "outputs": [],
   "source": [
    "def simulated_annealing(origin,update,scoring,t0,kt=0.97,round=20,printf=False):\n",
    "    score=scoring(origin)\n",
    "    data=origin\n",
    "\n",
    "    final=data\n",
    "    final_score=score\n",
    "    while(t0>=1):\n",
    "        for i in range(round):\n",
    "            nxt_data=update(data,t0)\n",
    "            nxt_score=scoring(nxt_data)\n",
    "\n",
    "            delta=nxt_score-score\n",
    "            if(np.exp(delta/t0)>np.random.rand()):\n",
    "                data=nxt_data\n",
    "                score=nxt_score\n",
    "                if(printf):print(data,score)\n",
    "                if(score>final_score):\n",
    "                    final,final_score=data,score\n",
    "        data=final\n",
    "        score=final_score\n",
    "        t0*=kt\n",
    "        if(printf):print(t0)\n",
    "    return final,final_score"
   ]
  },
  {
   "cell_type": "code",
   "execution_count": 3,
   "metadata": {},
   "outputs": [],
   "source": [
    "class PhaseMatch:\n",
    "    def __init__(self,l,r,ml):\n",
    "        self.l=l\n",
    "        self.r=r\n",
    "        self.scorelist=ml\n",
    "\n",
    "def printPhaseMatch(l,topk):\n",
    "    for i in l:\n",
    "        for j in range(len(i.scorelist)):\n",
    "            color=1/topk*j\n",
    "            if(i.scorelist[j][1]>i.scorelist[j][2]):color=(0,0,1-color)\n",
    "            else:color=(1-color,0,0)\n",
    "            plt.plot((i.l,i.r),(i.scorelist[j][1],i.scorelist[j][2]),color=color)\n",
    "    plt.show()"
   ]
  },
  {
   "cell_type": "code",
   "execution_count": null,
   "metadata": {},
   "outputs": [],
   "source": [
    "import tqdm\n",
    "def DNA_match(reference,sample,seglen,penalty,topk):\n",
    "    match_list=[]\n",
    "    pbar=tqdm.tqdm(total=len(sample))\n",
    "    for i in range(0,len(sample),seglen):\n",
    "        ri=min(i+seglen,len(sample))\n",
    "        scorelist=[]\n",
    "        for j in range(0,len(reference),seglen):\n",
    "            rj=min(j+seglen,len(reference))\n",
    "            scorelist.append((ri-i-edlib.align(reference[j:rj],sample[i:ri])['editDistance'],j,rj))\n",
    "        scorelist=heapq.nlargest(topk,scorelist)\n",
    "\n",
    "        for j in range(len(scorelist)):\n",
    "\n",
    "            origin=[[i,ri,scorelist[j][1],scorelist[j][2]]]\n",
    "            def update(data,t0):\n",
    "                dv=max(int(t0),5)\n",
    "                newdata=copy.deepcopy(data)\n",
    "                newdata[0][2]+=np.random.randint(-dv,dv)\n",
    "                newdata[0][2]=np.clip(newdata[0][2],0,len(reference))\n",
    "                newdata[0][3]+=np.random.randint(-dv,dv)\n",
    "                newdata[0][3]=np.clip(newdata[0][3],0,len(reference))\n",
    "                return newdata\n",
    "            def scoring(data):\n",
    "                return calculate_value(data,reference,sample,penalty)\n",
    "            data,score=simulated_annealing(origin,update,scoring,3,0.97,5)\n",
    "            scorelist[j]=(score,data[0][2],data[0][3])\n",
    "        \n",
    "        while len(scorelist)>0 and scorelist[-1][0]<=0:scorelist.pop()\n",
    "        if(len(scorelist)>0):\n",
    "            match_list.append((PhaseMatch(i,ri,scorelist),1))\n",
    "        pbar.update(seglen)\n",
    "    pbar.close()\n",
    "\n",
    "    while True:\n",
    "        mergel=0\n",
    "        new_match_list=[]\n",
    "        with tqdm.tqdm(total=len(match_list)) as pbar:\n",
    "            while(mergel<len(match_list)):\n",
    "                if(mergel==len(match_list)-1):\n",
    "                    new_match_list.append((match_list[mergel][0],0))\n",
    "                    break\n",
    "                if match_list[mergel][1]==0 and match_list[mergel+1][1]==0:\n",
    "                    new_match_list.append((match_list[mergel][0],0))\n",
    "                    mergel+=1\n",
    "                    pbar.update(1)\n",
    "                    continue\n",
    "                l=match_list[mergel][0].l\n",
    "                r=match_list[mergel+1][0].r\n",
    "                lenl=match_list[mergel][0].r-match_list[mergel][0].l\n",
    "                lenr=match_list[mergel+1][0].r-match_list[mergel+1][0].l\n",
    "                scorelist=[]\n",
    "                scorebound=match_list[mergel][0].scorelist[0][0]+match_list[mergel+1][0].scorelist[0][0]\n",
    "                def merge(refl,refr):\n",
    "                    origin=[[l,r,refl,refr]]\n",
    "                    def update(data,t0):\n",
    "                        dv=max(int(t0),10)\n",
    "                        newdata=copy.deepcopy(data)\n",
    "                        newdata[0][2]+=np.random.randint(-dv,dv)\n",
    "                        newdata[0][2]=np.clip(newdata[0][2],0,len(reference))\n",
    "                        newdata[0][3]+=np.random.randint(-dv,dv)\n",
    "                        newdata[0][3]=np.clip(newdata[0][3],0,len(reference))\n",
    "                        return newdata\n",
    "                    def scoring(data):\n",
    "                        return calculate_value(data,reference,sample,penalty)\n",
    "                    data,score=simulated_annealing(origin,update,scoring,max((r-l)//100,5),0.96,10)\n",
    "                    if(score>scorebound):\n",
    "                        def IoU(l1,r1,l2,r2):\n",
    "                            d1=max(r1-l1,0)\n",
    "                            d2=max(r2-l2,0)\n",
    "                            d3=max(min(r1,r2)-max(l1,l2),0)\n",
    "                            if(d3>(d1+d2-d3)*0.9):return False\n",
    "                            else:return True\n",
    "                        flag=True\n",
    "                        for i in scorelist:\n",
    "                            if not IoU(i[1],i[2],data[0][2],data[0][3]):\n",
    "                                flag=False\n",
    "                                break\n",
    "                        if flag:\n",
    "                            scorelist.append((score,data[0][2],data[0][3]))\n",
    "                    \n",
    "                for j in match_list[mergel][0].scorelist:\n",
    "                    merge(j[1],min(j[2]+lenr,len(reference)))\n",
    "                for j in match_list[mergel+1][0].scorelist:\n",
    "                    merge(max(j[1]-lenl,0),j[2])\n",
    "                if(len(scorelist)>0):\n",
    "                    scorelist=heapq.nlargest(topk,scorelist)\n",
    "                    new_match_list.append((PhaseMatch(l,r,scorelist),1))\n",
    "                    pbar.update(2)\n",
    "                    mergel+=2\n",
    "                else:\n",
    "                    new_match_list.append((match_list[mergel][0],0))\n",
    "                    pbar.update(1)\n",
    "                    mergel+=1\n",
    "        if(len(new_match_list)<len(match_list)):\n",
    "            match_list=new_match_list\n",
    "            print(\"segment count: \",len(match_list))\n",
    "        else:\n",
    "            break\n",
    "    return match_list "
   ]
  },
  {
   "cell_type": "code",
   "execution_count": 5,
   "metadata": {},
   "outputs": [
    {
     "name": "stderr",
     "output_type": "stream",
     "text": [
      "145100it [10:29, 230.38it/s]                            \n",
      "100%|██████████| 2848/2848 [15:04<00:00,  3.15it/s]\n"
     ]
    },
    {
     "name": "stdout",
     "output_type": "stream",
     "text": [
      "segment count:  1424\n"
     ]
    },
    {
     "name": "stderr",
     "output_type": "stream",
     "text": [
      "100%|█████████▉| 1423/1424 [06:55<00:00,  3.42it/s]\n"
     ]
    },
    {
     "name": "stdout",
     "output_type": "stream",
     "text": [
      "segment count:  713\n"
     ]
    },
    {
     "name": "stderr",
     "output_type": "stream",
     "text": [
      "100%|█████████▉| 712/713 [02:58<00:00,  4.00it/s]\n"
     ]
    },
    {
     "name": "stdout",
     "output_type": "stream",
     "text": [
      "segment count:  357\n"
     ]
    },
    {
     "name": "stderr",
     "output_type": "stream",
     "text": [
      "100%|█████████▉| 356/357 [02:03<00:00,  2.88it/s]\n"
     ]
    },
    {
     "name": "stdout",
     "output_type": "stream",
     "text": [
      "segment count:  179\n"
     ]
    },
    {
     "name": "stderr",
     "output_type": "stream",
     "text": [
      "100%|██████████| 179/179 [02:11<00:00,  1.36it/s]\n"
     ]
    },
    {
     "name": "stdout",
     "output_type": "stream",
     "text": [
      "segment count:  90\n"
     ]
    },
    {
     "name": "stderr",
     "output_type": "stream",
     "text": [
      "100%|██████████| 90/90 [04:57<00:00,  3.30s/it]\n"
     ]
    },
    {
     "name": "stdout",
     "output_type": "stream",
     "text": [
      "segment count:  46\n"
     ]
    },
    {
     "name": "stderr",
     "output_type": "stream",
     "text": [
      " 98%|█████████▊| 45/46 [06:33<00:08,  8.75s/it]\n"
     ]
    },
    {
     "name": "stdout",
     "output_type": "stream",
     "text": [
      "segment count:  25\n"
     ]
    },
    {
     "name": "stderr",
     "output_type": "stream",
     "text": [
      " 96%|█████████▌| 24/25 [09:07<00:22, 22.82s/it]\n"
     ]
    },
    {
     "name": "stdout",
     "output_type": "stream",
     "text": [
      "segment count:  17\n"
     ]
    },
    {
     "name": "stderr",
     "output_type": "stream",
     "text": [
      "100%|██████████| 17/17 [06:01<00:00, 21.28s/it]\n"
     ]
    },
    {
     "name": "stdout",
     "output_type": "stream",
     "text": [
      "segment count:  15\n"
     ]
    },
    {
     "name": "stderr",
     "output_type": "stream",
     "text": [
      " 93%|█████████▎| 14/15 [03:23<00:14, 14.55s/it]\n"
     ]
    },
    {
     "data": {
      "image/png": "[encoded data removed]",
      "text/plain": [
       "<Figure size 640x480 with 1 Axes>"
      ]
     },
     "metadata": {},
     "output_type": "display_data"
    }
   ],
   "source": [
    "with open(\"reference.txt\",'r') as file:\n",
    "    reference=file.read()\n",
    "with open(\"sample.txt\",'r') as file:\n",
    "    sample=file.read()\n",
    "\n",
    "topk=7\n",
    "\n",
    "match_list=DNA_match(reference,sample,50,30,topk)\n",
    "for i in range(len(match_list)):match_list[i]=match_list[i][0]\n",
    "printPhaseMatch(match_list,topk)"
   ]
  },
  {
   "cell_type": "code",
   "execution_count": 6,
   "metadata": {},
   "outputs": [
    {
     "name": "stdout",
     "output_type": "stream",
     "text": [
      "[[[50, 11350], [11350, 14550], [14550, 21050], [21050, 27450], [27450, 30750], [30750, 37150], [37150, 43600], [43600, 50150], [50150, 63650], [63650, 76850], [76850, 90550], [90550, 103350], [103350, 116250], [116250, 129200], [129200, 145050]], [[921, 12256], [34447, 37663], [32114, 38648], [33101, 39501], [33953, 37312], [31762, 38162], [32615, 39111], [33563, 40155], [23518, 37124], [20485, 33777], [17145, 30963], [20261, 33103], [16466, 29392], [12753, 25770], [36863, 52802]]]\n",
      "[(50, 11350, 921, 12256), (11350, 14550, 34447, 37663), (14550, 21050, 32114, 38648), (21050, 27450, 33101, 39501), (27450, 30750, 33953, 37312), (30750, 37150, 31762, 38162), (37150, 43600, 32615, 39111), (43600, 50150, 33563, 40155), (50150, 63650, 23518, 37124), (63650, 76850, 20485, 33777), (76850, 90550, 17145, 30963), (90550, 103350, 20261, 33103), (103350, 116250, 16466, 29392), (116250, 129200, 12753, 25770), (129200, 145050, 36863, 52802)]\n",
      "139292\n"
     ]
    }
   ],
   "source": [
    "origin=[[],[]]\n",
    "for i in match_list:\n",
    "    origin[0].append([i.l,i.r])\n",
    "    origin[1].append([i.scorelist[0][1],i.scorelist[0][2]])\n",
    "\n",
    "def trans(data):\n",
    "    l=[]\n",
    "    for i in range(len(data[0])):\n",
    "        l.append((data[0][i][0],data[0][i][1],data[1][i][0],data[1][i][1]))\n",
    "    return l\n",
    "print(origin)\n",
    "print(trans(origin))\n",
    "print(calculate_value(trans(origin),reference,sample,30))\n"
   ]
  },
  {
   "cell_type": "code",
   "execution_count": null,
   "metadata": {},
   "outputs": [
    {
     "name": "stdout",
     "output_type": "stream",
     "text": [
      "0 139336 [(0, 11341, 870, 12247), (11341, 14550, 34438, 37663), (14550, 21050, 32114, 38648), (21050, 27450, 33101, 39501), (27450, 30750, 33953, 37312), (30750, 37150, 31762, 38162), (37150, 43600, 32615, 39111), (43600, 50150, 33563, 40155), (50150, 63650, 23518, 37124), (63650, 76850, 20485, 33777), (76850, 90550, 17145, 30963), (90550, 103350, 20261, 33103), (103350, 116250, 16466, 29392), (116250, 129200, 12753, 25770), (129200, 145050, 36863, 52802)]\n",
      "1 139336 [(0, 11341, 870, 12247), (11341, 14550, 34438, 37663), (14550, 21050, 32114, 38648), (21050, 27450, 33101, 39501), (27450, 30750, 33953, 37312), (30750, 37150, 31762, 38162), (37150, 43600, 32615, 39111), (43600, 50150, 33563, 40155), (50150, 63650, 23518, 37124), (63650, 76850, 20485, 33777), (76850, 90550, 17145, 30963), (90550, 103350, 20261, 33103), (103350, 116250, 16466, 29392), (116250, 129200, 12753, 25770), (129200, 145050, 36863, 52802)]\n",
      "2 139336 [(0, 11341, 870, 12247), (11341, 14550, 34438, 37663), (14550, 21050, 32114, 38648), (21050, 27450, 33101, 39501), (27450, 30750, 33953, 37312), (30750, 37150, 31762, 38162), (37150, 43600, 32615, 39111), (43600, 50150, 33563, 40155), (50150, 63650, 23518, 37124), (63650, 76850, 20485, 33777), (76850, 90550, 17145, 30963), (90550, 103350, 20261, 33103), (103350, 116250, 16466, 29392), (116250, 129200, 12753, 25770), (129200, 145050, 36863, 52802)]\n",
      "3 139343 [(0, 11341, 870, 12247), (11341, 14550, 34438, 37663), (14550, 21050, 32114, 38648), (21050, 27325, 33101, 39372), (27325, 30750, 33825, 37311), (30750, 37150, 31762, 38162), (37150, 43600, 32615, 39111), (43600, 50150, 33563, 40155), (50150, 63650, 23518, 37124), (63650, 76850, 20485, 33777), (76850, 90550, 17145, 30963), (90550, 103350, 20261, 33103), (103350, 116250, 16466, 29392), (116250, 129200, 12753, 25770), (129200, 145050, 36863, 52802)]\n",
      "4 139344 [(0, 11341, 870, 12247), (11341, 14550, 34438, 37663), (14550, 21050, 32114, 38648), (21050, 27325, 33101, 39372), (27325, 30752, 33825, 37313), (30752, 37150, 31765, 38162), (37150, 43600, 32615, 39111), (43600, 50150, 33563, 40155), (50150, 63650, 23518, 37124), (63650, 76850, 20485, 33777), (76850, 90550, 17145, 30963), (90550, 103350, 20261, 33103), (103350, 116250, 16466, 29392), (116250, 129200, 12753, 25770), (129200, 145050, 36863, 52802)]\n",
      "5 139346 [(0, 11341, 870, 12247), (11341, 14550, 34438, 37663), (14550, 21050, 32114, 38648), (21050, 27325, 33101, 39372), (27325, 30752, 33825, 37313), (30752, 37053, 31765, 38064), (37053, 43600, 32518, 39110), (43600, 50150, 33563, 40155), (50150, 63650, 23518, 37124), (63650, 76850, 20485, 33777), (76850, 90550, 17145, 30963), (90550, 103350, 20261, 33103), (103350, 116250, 16466, 29392), (116250, 129200, 12753, 25770), (129200, 145050, 36863, 52802)]\n",
      "6 139347 [(0, 11341, 870, 12247), (11341, 14550, 34438, 37663), (14550, 21050, 32114, 38648), (21050, 27325, 33101, 39372), (27325, 30752, 33825, 37313), (30752, 37053, 31765, 38064), (37053, 43610, 32518, 39120), (43610, 50150, 33574, 40155), (50150, 63650, 23518, 37124), (63650, 76850, 20485, 33777), (76850, 90550, 17145, 30963), (90550, 103350, 20261, 33103), (103350, 116250, 16466, 29392), (116250, 129200, 12753, 25770), (129200, 145050, 36863, 52802)]\n",
      "7 139348 [(0, 11341, 870, 12247), (11341, 14550, 34438, 37663), (14550, 21050, 32114, 38648), (21050, 27325, 33101, 39372), (27325, 30752, 33825, 37313), (30752, 37053, 31765, 38064), (37053, 43610, 32518, 39120), (43610, 50143, 33574, 40148), (50143, 63650, 23512, 37124), (63650, 76850, 20485, 33777), (76850, 90550, 17145, 30963), (90550, 103350, 20261, 33103), (103350, 116250, 16466, 29392), (116250, 129200, 12753, 25770), (129200, 145050, 36863, 52802)]\n",
      "8 139348 [(0, 11341, 870, 12247), (11341, 14550, 34438, 37663), (14550, 21050, 32114, 38648), (21050, 27325, 33101, 39372), (27325, 30752, 33825, 37313), (30752, 37053, 31765, 38064), (37053, 43610, 32518, 39120), (43610, 50143, 33574, 40148), (50143, 63650, 23512, 37124), (63650, 76850, 20485, 33777), (76850, 90550, 17145, 30963), (90550, 103350, 20261, 33103), (103350, 116250, 16466, 29392), (116250, 129200, 12753, 25770), (129200, 145050, 36863, 52802)]\n",
      "9 139348 [(0, 11341, 870, 12247), (11341, 14550, 34438, 37663), (14550, 21050, 32114, 38648), (21050, 27325, 33101, 39372), (27325, 30752, 33825, 37313), (30752, 37053, 31765, 38064), (37053, 43610, 32518, 39120), (43610, 50143, 33574, 40148), (50143, 63650, 23512, 37124), (63650, 76850, 20485, 33777), (76850, 90550, 17145, 30963), (90550, 103350, 20261, 33103), (103350, 116250, 16466, 29392), (116250, 129200, 12753, 25770), (129200, 145050, 36863, 52802)]\n",
      "10 139350 [(0, 11341, 870, 12247), (11341, 14550, 34438, 37663), (14550, 21050, 32114, 38648), (21050, 27325, 33101, 39372), (27325, 30752, 33825, 37313), (30752, 37053, 31765, 38064), (37053, 43610, 32518, 39120), (43610, 50143, 33574, 40148), (50143, 63650, 23512, 37124), (63650, 76850, 20485, 33777), (76850, 90545, 17145, 30958), (90545, 103350, 20259, 33102), (103350, 116250, 16466, 29392), (116250, 129200, 12753, 25770), (129200, 145050, 36863, 52802)]\n",
      "11 139350 [(0, 11341, 870, 12247), (11341, 14550, 34438, 37663), (14550, 21050, 32114, 38648), (21050, 27325, 33101, 39372), (27325, 30752, 33825, 37313), (30752, 37053, 31765, 38064), (37053, 43610, 32518, 39120), (43610, 50143, 33574, 40148), (50143, 63650, 23512, 37124), (63650, 76850, 20485, 33777), (76850, 90545, 17145, 30958), (90545, 103350, 20259, 33102), (103350, 116250, 16466, 29392), (116250, 129200, 12753, 25770), (129200, 145050, 36863, 52802)]\n",
      "12 139352 [(0, 11341, 870, 12247), (11341, 14550, 34438, 37663), (14550, 21050, 32114, 38648), (21050, 27325, 33101, 39372), (27325, 30752, 33825, 37313), (30752, 37053, 31765, 38064), (37053, 43610, 32518, 39120), (43610, 50143, 33574, 40148), (50143, 63650, 23512, 37124), (63650, 76850, 20485, 33777), (76850, 90545, 17145, 30958), (90545, 103350, 20259, 33102), (103350, 116253, 16466, 29395), (116253, 129200, 12756, 25770), (129200, 145050, 36863, 52802)]\n",
      "13 139363 [(0, 11341, 870, 12247), (11341, 14550, 34438, 37663), (14550, 21050, 32114, 38648), (21050, 27325, 33101, 39372), (27325, 30752, 33825, 37313), (30752, 37053, 31765, 38064), (37053, 43610, 32518, 39120), (43610, 50143, 33574, 40148), (50143, 63650, 23512, 37124), (63650, 76850, 20485, 33777), (76850, 90545, 17145, 30958), (90545, 103350, 20259, 33102), (103350, 116253, 16466, 29395), (116253, 129190, 12757, 25760), (129190, 145063, 36853, 52815)]\n",
      "14 139365 [(0, 11294, 870, 12198), (11294, 14550, 34391, 37663), (14550, 21050, 32114, 38648), (21050, 27325, 33101, 39372), (27325, 30752, 33825, 37313), (30752, 37053, 31765, 38064), (37053, 43610, 32518, 39120), (43610, 50143, 33574, 40148), (50143, 63650, 23512, 37124), (63650, 76850, 20485, 33777), (76850, 90545, 17145, 30958), (90545, 103350, 20259, 33102), (103350, 116253, 16466, 29395), (116253, 129190, 12757, 25760), (129190, 145063, 36853, 52815)]\n",
      "15 139365 [(0, 11294, 870, 12198), (11294, 14550, 34391, 37663), (14550, 21050, 32114, 38648), (21050, 27325, 33101, 39372), (27325, 30752, 33825, 37313), (30752, 37053, 31765, 38064), (37053, 43610, 32518, 39120), (43610, 50143, 33574, 40148), (50143, 63650, 23512, 37124), (63650, 76850, 20485, 33777), (76850, 90545, 17145, 30958), (90545, 103350, 20259, 33102), (103350, 116253, 16466, 29395), (116253, 129190, 12757, 25760), (129190, 145063, 36853, 52815)]\n",
      "16 139365 [(0, 11294, 870, 12198), (11294, 14550, 34391, 37663), (14550, 21050, 32114, 38648), (21050, 27325, 33101, 39372), (27325, 30752, 33825, 37313), (30752, 37053, 31765, 38064), (37053, 43610, 32518, 39120), (43610, 50143, 33574, 40148), (50143, 63650, 23512, 37124), (63650, 76850, 20485, 33777), (76850, 90545, 17145, 30958), (90545, 103350, 20259, 33102), (103350, 116253, 16466, 29395), (116253, 129190, 12757, 25760), (129190, 145063, 36853, 52815)]\n",
      "17 139365 [(0, 11294, 870, 12198), (11294, 14550, 34391, 37663), (14550, 21050, 32114, 38648), (21050, 27325, 33101, 39372), (27325, 30752, 33825, 37313), (30752, 37053, 31765, 38064), (37053, 43610, 32518, 39120), (43610, 50143, 33574, 40148), (50143, 63650, 23512, 37124), (63650, 76850, 20485, 33777), (76850, 90545, 17145, 30958), (90545, 103350, 20259, 33102), (103350, 116253, 16466, 29395), (116253, 129190, 12757, 25760), (129190, 145063, 36853, 52815)]\n",
      "18 139365 [(0, 11294, 870, 12198), (11294, 14550, 34391, 37663), (14550, 21050, 32114, 38648), (21050, 27325, 33101, 39372), (27325, 30752, 33825, 37313), (30752, 37053, 31765, 38064), (37053, 43610, 32518, 39120), (43610, 50143, 33574, 40148), (50143, 63650, 23512, 37124), (63650, 76850, 20485, 33777), (76850, 90545, 17145, 30958), (90545, 103350, 20259, 33102), (103350, 116253, 16466, 29395), (116253, 129190, 12757, 25760), (129190, 145063, 36853, 52815)]\n",
      "19 139365 [(0, 11294, 870, 12198), (11294, 14550, 34391, 37663), (14550, 21050, 32114, 38648), (21050, 27325, 33101, 39372), (27325, 30752, 33825, 37313), (30752, 37053, 31765, 38064), (37053, 43610, 32518, 39120), (43610, 50143, 33574, 40148), (50143, 63650, 23512, 37124), (63650, 76850, 20485, 33777), (76850, 90545, 17145, 30958), (90545, 103350, 20259, 33102), (103350, 116253, 16466, 29395), (116253, 129190, 12757, 25760), (129190, 145063, 36853, 52815)]\n",
      "20 139365 [(0, 11294, 870, 12198), (11294, 14550, 34391, 37663), (14550, 21050, 32114, 38648), (21050, 27325, 33101, 39372), (27325, 30752, 33825, 37313), (30752, 37053, 31765, 38064), (37053, 43610, 32518, 39120), (43610, 50143, 33574, 40148), (50143, 63650, 23512, 37124), (63650, 76850, 20485, 33777), (76850, 90545, 17145, 30958), (90545, 103350, 20259, 33102), (103350, 116253, 16466, 29395), (116253, 129190, 12757, 25760), (129190, 145063, 36853, 52815)]\n",
      "21 139365 [(0, 11294, 870, 12198), (11294, 14550, 34391, 37663), (14550, 21050, 32114, 38648), (21050, 27325, 33101, 39372), (27325, 30752, 33825, 37313), (30752, 37053, 31765, 38064), (37053, 43610, 32518, 39120), (43610, 50143, 33574, 40148), (50143, 63650, 23512, 37124), (63650, 76850, 20485, 33777), (76850, 90545, 17145, 30958), (90545, 103350, 20259, 33102), (103350, 116253, 16466, 29395), (116253, 129190, 12757, 25760), (129190, 145063, 36853, 52815)]\n",
      "22 139365 [(0, 11294, 870, 12198), (11294, 14550, 34391, 37663), (14550, 21050, 32114, 38648), (21050, 27325, 33101, 39372), (27325, 30752, 33825, 37313), (30752, 37053, 31765, 38064), (37053, 43610, 32518, 39120), (43610, 50143, 33574, 40148), (50143, 63650, 23512, 37124), (63650, 76850, 20485, 33777), (76850, 90545, 17145, 30958), (90545, 103350, 20259, 33102), (103350, 116253, 16466, 29395), (116253, 129190, 12757, 25760), (129190, 145063, 36853, 52815)]\n",
      "23 139365 [(0, 11294, 870, 12198), (11294, 14550, 34391, 37663), (14550, 21050, 32114, 38648), (21050, 27325, 33101, 39372), (27325, 30752, 33825, 37313), (30752, 37053, 31765, 38064), (37053, 43610, 32518, 39120), (43610, 50143, 33574, 40148), (50143, 63650, 23512, 37124), (63650, 76850, 20485, 33777), (76850, 90545, 17145, 30958), (90545, 103350, 20259, 33102), (103350, 116253, 16466, 29395), (116253, 129190, 12757, 25760), (129190, 145063, 36853, 52815)]\n",
      "24 139365 [(0, 11294, 870, 12198), (11294, 14550, 34391, 37663), (14550, 21050, 32114, 38648), (21050, 27325, 33101, 39372), (27325, 30752, 33825, 37313), (30752, 37053, 31765, 38064), (37053, 43610, 32518, 39120), (43610, 50143, 33574, 40148), (50143, 63650, 23512, 37124), (63650, 76850, 20485, 33777), (76850, 90545, 17145, 30958), (90545, 103350, 20259, 33102), (103350, 116253, 16466, 29395), (116253, 129190, 12757, 25760), (129190, 145063, 36853, 52815)]\n",
      "25 139365 [(0, 11294, 870, 12198), (11294, 14550, 34391, 37663), (14550, 21050, 32114, 38648), (21050, 27325, 33101, 39372), (27325, 30752, 33825, 37313), (30752, 37053, 31765, 38064), (37053, 43610, 32518, 39120), (43610, 50143, 33574, 40148), (50143, 63650, 23512, 37124), (63650, 76850, 20485, 33777), (76850, 90545, 17145, 30958), (90545, 103350, 20259, 33102), (103350, 116253, 16466, 29395), (116253, 129190, 12757, 25760), (129190, 145063, 36853, 52815)]\n",
      "26 139365 [(0, 11294, 870, 12198), (11294, 14550, 34391, 37663), (14550, 21050, 32114, 38648), (21050, 27325, 33101, 39372), (27325, 30752, 33825, 37313), (30752, 37053, 31765, 38064), (37053, 43610, 32518, 39120), (43610, 50143, 33574, 40148), (50143, 63650, 23512, 37124), (63650, 76850, 20485, 33777), (76850, 90545, 17145, 30958), (90545, 103350, 20259, 33102), (103350, 116253, 16466, 29395), (116253, 129190, 12757, 25760), (129190, 145063, 36853, 52815)]\n",
      "27 139365 [(0, 11294, 870, 12198), (11294, 14550, 34391, 37663), (14550, 21050, 32114, 38648), (21050, 27325, 33101, 39372), (27325, 30752, 33825, 37313), (30752, 37053, 31765, 38064), (37053, 43610, 32518, 39120), (43610, 50143, 33574, 40148), (50143, 63650, 23512, 37124), (63650, 76850, 20485, 33777), (76850, 90545, 17145, 30958), (90545, 103350, 20259, 33102), (103350, 116253, 16466, 29395), (116253, 129190, 12757, 25760), (129190, 145063, 36853, 52815)]\n",
      "28 139365 [(0, 11294, 870, 12198), (11294, 14550, 34391, 37663), (14550, 21050, 32114, 38648), (21050, 27325, 33101, 39372), (27325, 30752, 33825, 37313), (30752, 37053, 31765, 38064), (37053, 43610, 32518, 39120), (43610, 50143, 33574, 40148), (50143, 63650, 23512, 37124), (63650, 76850, 20485, 33777), (76850, 90545, 17145, 30958), (90545, 103350, 20259, 33102), (103350, 116253, 16466, 29395), (116253, 129190, 12757, 25760), (129190, 145063, 36853, 52815)]\n"
     ]
    }
   ],
   "source": [
    "import numpy as np\n",
    "def trans(data):\n",
    "    l=[]\n",
    "    for i in range(len(data[0])):\n",
    "        l.append((data[0][i][0],data[0][i][1],data[1][i][0],data[1][i][1]))\n",
    "    return l\n",
    "\n",
    "def scoring(data):\n",
    "    return calculate_value(trans(data),reference,sample,30)\n",
    "\n",
    "for round in range(100):\n",
    "    l=round%(len(origin[0])-1)\n",
    "    origin1=[\n",
    "        [origin[0][l][0],origin[0][l][1],origin[0][l+1][1]],\n",
    "        [[origin[1][l][0],origin[1][l][1]],[origin[1][l+1][0],origin[1][l+1][1]]]\n",
    "    ]\n",
    "    saml=0 if l==0 else origin[0][l-1][1]\n",
    "    samr=len(sample) if l+1==len(origin[0])-1 else origin[0][l+2][0]\n",
    "\n",
    "    def update1(data,t0):\n",
    "        newdata=copy.deepcopy(data)\n",
    "        dv=max(int(t0),1)\n",
    "        for i in range(len(data[0])):\n",
    "            newdata[0][i]=np.clip(data[0][i]+np.random.randint(-dv,dv),saml,samr)\n",
    "        newdata[0].sort()\n",
    "\n",
    "        for i in range(len(data[1])):\n",
    "            def update1(data,t0):\n",
    "                dv=max(int(t0),10)\n",
    "                newdata:list=copy.deepcopy(data)\n",
    "                newdata[0]=newdata[0]+np.random.randint(-dv,dv)\n",
    "                newdata[0]=np.clip(newdata[0],0,len(reference))\n",
    "                newdata[1]=newdata[1]+np.random.randint(-dv,dv)\n",
    "                newdata[1]=np.clip(newdata[1],0,len(reference))\n",
    "                newdata.sort()\n",
    "                return newdata\n",
    "            def scoring1(data1):\n",
    "                return calculate_value([(newdata[0][i],newdata[0][i+1],data1[0],data1[1])],reference,sample,30)\n",
    "            \n",
    "            newdata[1][i],score=simulated_annealing(data[1][i],update1,scoring1,t0,0.96,10)\n",
    "        return newdata\n",
    "    \n",
    "    def trans1(data):\n",
    "        l=[]\n",
    "        for i in range(len(data[1])):\n",
    "            l.append((data[0][i],data[0][i+1],data[1][i][0],data[1][i][1]))\n",
    "        return l\n",
    "\n",
    "    def scoring1(data):\n",
    "        return calculate_value(trans1(data),reference,sample,30)\n",
    "    \n",
    "    data1,score=simulated_annealing(origin1,update1,scoring1,25,0.96,10)\n",
    "    origin[0][l],origin[0][l+1]=(data1[0][0],data1[0][1]),(data1[0][1],data1[0][2])\n",
    "    origin[1][l],origin[1][l+1]=data1[1][0],data1[1][1]\n",
    "    print(round,scoring(origin),trans(origin),sep=\" \")\n",
    "\n",
    "\n",
    "print(trans(origin))\n",
    "print(scoring(origin))    "
   ]
  }
 ],
 "metadata": {
  "kernelspec": {
   "display_name": "Python 3",
   "language": "python",
   "name": "python3"
  },
  "language_info": {
   "codemirror_mode": {
    "name": "ipython",
    "version": 3
   },
   "file_extension": ".py",
   "mimetype": "text/x-python",
   "name": "python",
   "nbconvert_exporter": "python",
   "pygments_lexer": "ipython3",
   "version": "3.8.20"
  }
 },
 "nbformat": 4,
 "nbformat_minor": 2
}
