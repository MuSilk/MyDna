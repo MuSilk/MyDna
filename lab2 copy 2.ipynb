{
 "cells": [
  {
   "cell_type": "code",
   "execution_count": 1,
   "metadata": {},
   "outputs": [],
   "source": [
    "import edlib\n",
    "import numpy as np\n",
    "import heapq\n",
    "import time\n",
    "from Bio.Seq import Seq\n",
    "import copy\n",
    "import matplotlib.pyplot as plt\n",
    "def rc(seq):\n",
    "    return str(Seq(seq).reverse_complement())\n",
    "def calculate_distance(ref, query, ref_st, ref_en, query_st, query_en):\n",
    "    A = ref[ref_st: ref_en]\n",
    "    a = query[query_st: query_en]\n",
    "    # _a = rc(query[query_st: query_en])\n",
    "    # return min(edlib.align(A, a)['editDistance'], edlib.align(A, _a)['editDistance'])\n",
    "    return edlib.align(A, a)['editDistance']\n",
    "\n",
    "def calculate_value(points, ref, query,penalty):  \n",
    "    try:\n",
    "        editdistance = 0\n",
    "        aligned = 0\n",
    "        preend = 0\n",
    "        for onetuple in points:\n",
    "            query_st, query_en, ref_st, ref_en = onetuple[0], onetuple[1], onetuple[2], onetuple[3]\n",
    "            if(preend > query_st):#检测重叠\n",
    "                return 0\n",
    "            preend = query_en\n",
    "            editdistance += calculate_distance(ref, query, ref_st, ref_en, query_st, query_en)\n",
    "            aligned += query_en - query_st\n",
    "        return aligned - editdistance - len(points) * penalty #额外的惩罚碎片化的输出\n",
    "    except:\n",
    "        return 0"
   ]
  },
  {
   "cell_type": "code",
   "execution_count": 2,
   "metadata": {},
   "outputs": [],
   "source": [
    "def simulated_annealing(origin,update,scoring,t0,kt=0.97,round=20,printf=False):\n",
    "    score=scoring(origin)\n",
    "    data=origin\n",
    "\n",
    "    final=data\n",
    "    final_score=score\n",
    "    while(t0>=1):\n",
    "        for i in range(round):\n",
    "            nxt_data=update(data,t0)\n",
    "            nxt_score=scoring(nxt_data)\n",
    "\n",
    "            delta=nxt_score-score\n",
    "            if(np.exp(delta/t0)>np.random.rand()):\n",
    "                data=nxt_data\n",
    "                score=nxt_score\n",
    "                if(printf):print(data,score)\n",
    "                if(score>final_score):\n",
    "                    final,final_score=data,score\n",
    "        data=final\n",
    "        score=final_score\n",
    "        t0*=kt\n",
    "        if(printf):print(t0)\n",
    "    return final,final_score"
   ]
  },
  {
   "cell_type": "code",
   "execution_count": 3,
   "metadata": {},
   "outputs": [],
   "source": [
    "class PhaseMatch:\n",
    "    def __init__(self,l,r,ml):\n",
    "        self.l=l\n",
    "        self.r=r\n",
    "        self.scorelist=ml\n",
    "\n",
    "def printPhaseMatch(l,topk):\n",
    "    for i in l:\n",
    "        for j in range(len(i.scorelist)):\n",
    "            color=1/topk*j\n",
    "            if(i.scorelist[j][1]>i.scorelist[j][2]):color=(0,0,1-color)\n",
    "            else:color=(1-color,0,0)\n",
    "            plt.plot((i.l,i.r),(i.scorelist[j][1],i.scorelist[j][2]),color=color)\n",
    "    plt.show()"
   ]
  },
  {
   "cell_type": "code",
   "execution_count": 4,
   "metadata": {},
   "outputs": [],
   "source": [
    "import tqdm\n",
    "def DNA_match(reference,sample,seglen,penalty,topk):\n",
    "    match_list=[]\n",
    "    pbar=tqdm.tqdm(total=len(sample))\n",
    "    for i in range(0,len(sample),seglen):\n",
    "        ri=min(i+seglen,len(sample))\n",
    "        scorelist=[]\n",
    "        for j in range(0,len(reference),seglen):\n",
    "            rj=min(j+seglen,len(reference))\n",
    "            scorelist.append((ri-i-edlib.align(reference[j:rj],sample[i:ri])['editDistance'],j,rj))\n",
    "        scorelist=heapq.nlargest(topk,scorelist)\n",
    "\n",
    "        for j in range(len(scorelist)):\n",
    "\n",
    "            origin=[[i,ri,scorelist[j][1],scorelist[j][2]]]\n",
    "            def update(data,t0):\n",
    "                dv=max(int(t0),5)\n",
    "                newdata=copy.deepcopy(data)\n",
    "                newdata[0][2]+=np.random.randint(-dv,dv)\n",
    "                newdata[0][2]=np.clip(newdata[0][2],0,len(reference))\n",
    "                newdata[0][3]+=np.random.randint(-dv,dv)\n",
    "                newdata[0][3]=np.clip(newdata[0][3],0,len(reference))\n",
    "                return newdata\n",
    "            def scoring(data):\n",
    "                return calculate_value(data,reference,sample,penalty)\n",
    "            data,score=simulated_annealing(origin,update,scoring,3,0.97,5)\n",
    "            scorelist[j]=(score,data[0][2],data[0][3])\n",
    "        \n",
    "        scorelist=heapq.nlargest(topk,scorelist)\n",
    "        if(len(scorelist)>0):\n",
    "            match_list.append((PhaseMatch(i,ri,scorelist),1))\n",
    "        pbar.update(seglen)\n",
    "    pbar.close()\n",
    "\n",
    "    while True:\n",
    "        mergel=0\n",
    "        new_match_list=[]\n",
    "        with tqdm.tqdm(total=len(match_list)) as pbar:\n",
    "            while(mergel<len(match_list)):\n",
    "                if(mergel==len(match_list)-1):\n",
    "                    new_match_list.append((match_list[mergel][0],0))\n",
    "                    break\n",
    "                if match_list[mergel][1]==0 and match_list[mergel+1][1]==0:\n",
    "                    new_match_list.append((match_list[mergel][0],0))\n",
    "                    mergel+=1\n",
    "                    pbar.update(1)\n",
    "                    continue\n",
    "                l=match_list[mergel][0].l\n",
    "                r=match_list[mergel+1][0].r\n",
    "                lenl=match_list[mergel][0].r-match_list[mergel][0].l\n",
    "                lenr=match_list[mergel+1][0].r-match_list[mergel+1][0].l\n",
    "                scorelist=[]\n",
    "                scorebound=match_list[mergel][0].scorelist[0][0]+match_list[mergel+1][0].scorelist[0][0]\n",
    "                def merge(refl,refr):\n",
    "                    origin=[[l,r,refl,refr]]\n",
    "                    def update(data,t0):\n",
    "                        dv=max(int(t0),10)\n",
    "                        newdata=copy.deepcopy(data)\n",
    "                        newdata[0][2]+=np.random.randint(-dv,dv)\n",
    "                        newdata[0][2]=np.clip(newdata[0][2],0,len(reference))\n",
    "                        newdata[0][3]+=np.random.randint(-dv,dv)\n",
    "                        newdata[0][3]=np.clip(newdata[0][3],0,len(reference))\n",
    "                        return newdata\n",
    "                    def scoring(data):\n",
    "                        return calculate_value(data,reference,sample,penalty)\n",
    "                    data,score=simulated_annealing(origin,update,scoring,max((r-l)//10,5),0.96,10)\n",
    "                    if(score>scorebound):\n",
    "                        def IoU(l1,r1,l2,r2):\n",
    "                            d1=max(r1-l1,0)\n",
    "                            d2=max(r2-l2,0)\n",
    "                            d3=max(min(r1,r2)-max(l1,l2),0)\n",
    "                            if(d3>(d1+d2-d3)*0.9):return False\n",
    "                            else:return True\n",
    "                        flag=True\n",
    "                        for i in scorelist:\n",
    "                            if not IoU(i[1],i[2],data[0][2],data[0][3]):\n",
    "                                flag=False\n",
    "                                break\n",
    "                        if flag:\n",
    "                            scorelist.append((score,data[0][2],data[0][3]))\n",
    "                    \n",
    "                for j in match_list[mergel][0].scorelist:\n",
    "                    merge(j[1],min(j[2]+lenr,len(reference)))\n",
    "                for j in match_list[mergel+1][0].scorelist:\n",
    "                    merge(max(j[1]-lenl,0),j[2])\n",
    "                if(len(scorelist)>0):\n",
    "                    scorelist=heapq.nlargest(topk,scorelist)\n",
    "                    new_match_list.append((PhaseMatch(l,r,scorelist),1))\n",
    "                    pbar.update(2)\n",
    "                    mergel+=2\n",
    "                else:\n",
    "                    new_match_list.append((match_list[mergel][0],0))\n",
    "                    pbar.update(1)\n",
    "                    mergel+=1\n",
    "        if(len(new_match_list)<len(match_list)):\n",
    "            match_list=new_match_list\n",
    "            print(\"segment count: \",len(match_list))\n",
    "        else:\n",
    "            break\n",
    "    return match_list "
   ]
  },
  {
   "cell_type": "code",
   "execution_count": 5,
   "metadata": {},
   "outputs": [
    {
     "name": "stderr",
     "output_type": "stream",
     "text": [
      "145100it [07:14, 333.65it/s]                            \n",
      "100%|██████████| 2902/2902 [15:57<00:00,  3.03it/s]\n"
     ]
    },
    {
     "name": "stdout",
     "output_type": "stream",
     "text": [
      "segment count:  1451\n"
     ]
    },
    {
     "name": "stderr",
     "output_type": "stream",
     "text": [
      "100%|█████████▉| 1450/1451 [04:39<00:00,  5.19it/s]\n"
     ]
    },
    {
     "name": "stdout",
     "output_type": "stream",
     "text": [
      "segment count:  726\n"
     ]
    },
    {
     "name": "stderr",
     "output_type": "stream",
     "text": [
      "100%|█████████▉| 725/726 [02:42<00:00,  4.45it/s]\n"
     ]
    },
    {
     "name": "stdout",
     "output_type": "stream",
     "text": [
      "segment count:  364\n"
     ]
    },
    {
     "name": "stderr",
     "output_type": "stream",
     "text": [
      "100%|█████████▉| 363/364 [01:35<00:00,  3.81it/s]\n"
     ]
    },
    {
     "name": "stdout",
     "output_type": "stream",
     "text": [
      "segment count:  183\n"
     ]
    },
    {
     "name": "stderr",
     "output_type": "stream",
     "text": [
      " 99%|█████████▉| 182/183 [01:22<00:00,  2.19it/s]\n"
     ]
    },
    {
     "name": "stdout",
     "output_type": "stream",
     "text": [
      "segment count:  92\n"
     ]
    },
    {
     "name": "stderr",
     "output_type": "stream",
     "text": [
      " 99%|█████████▉| 91/92 [01:42<00:01,  1.12s/it]\n"
     ]
    },
    {
     "name": "stdout",
     "output_type": "stream",
     "text": [
      "segment count:  47\n"
     ]
    },
    {
     "name": "stderr",
     "output_type": "stream",
     "text": [
      "100%|██████████| 47/47 [02:27<00:00,  3.14s/it]\n"
     ]
    },
    {
     "name": "stdout",
     "output_type": "stream",
     "text": [
      "segment count:  25\n"
     ]
    },
    {
     "name": "stderr",
     "output_type": "stream",
     "text": [
      " 96%|█████████▌| 24/25 [02:51<00:07,  7.16s/it]\n"
     ]
    },
    {
     "name": "stdout",
     "output_type": "stream",
     "text": [
      "segment count:  16\n"
     ]
    },
    {
     "name": "stderr",
     "output_type": "stream",
     "text": [
      "100%|██████████| 16/16 [04:45<00:00, 17.82s/it]\n"
     ]
    },
    {
     "name": "stdout",
     "output_type": "stream",
     "text": [
      "segment count:  15\n"
     ]
    },
    {
     "name": "stderr",
     "output_type": "stream",
     "text": [
      " 93%|█████████▎| 14/15 [00:59<00:04,  4.27s/it]\n"
     ]
    },
    {
     "data": {
      "image/png": "[encoded data removed]",
      "text/plain": [
       "<Figure size 640x480 with 1 Axes>"
      ]
     },
     "metadata": {},
     "output_type": "display_data"
    }
   ],
   "source": [
    "with open(\"reference.txt\",'r') as file:\n",
    "    reference=file.read()\n",
    "with open(\"sample.txt\",'r') as file:\n",
    "    sample=file.read()\n",
    "\n",
    "topk=9\n",
    "\n",
    "match_list=DNA_match(reference,sample,50,30,topk)\n",
    "for i in range(len(match_list)):match_list[i]=match_list[i][0]\n",
    "printPhaseMatch(match_list,topk)"
   ]
  },
  {
   "cell_type": "code",
   "execution_count": 6,
   "metadata": {},
   "outputs": [
    {
     "name": "stdout",
     "output_type": "stream",
     "text": [
      "[[[0, 11200], [11200, 14400], [14400, 20800], [20800, 27200], [27200, 30400], [30400, 36800], [36800, 43200], [43200, 56000], [56000, 68800], [68800, 81600], [81600, 90600], [90600, 103400], [103400, 116200], [116200, 129000], [129000, 145063]], [[871, 12103], [34296, 37513], [31964, 38398], [32851, 39244], [33697, 36950], [31401, 37812], [32266, 38713], [33166, 46056], [29416, 42328], [20146, 33012], [16376, 25455], [20312, 33151], [16516, 29341], [12699, 25567], [36660, 52814]]]\n",
      "[(0, 11200, 871, 12103), (11200, 14400, 34296, 37513), (14400, 20800, 31964, 38398), (20800, 27200, 32851, 39244), (27200, 30400, 33697, 36950), (30400, 36800, 31401, 37812), (36800, 43200, 32266, 38713), (43200, 56000, 33166, 46056), (56000, 68800, 29416, 42328), (68800, 81600, 20146, 33012), (81600, 90600, 16376, 25455), (90600, 103400, 20312, 33151), (103400, 116200, 16516, 29341), (116200, 129000, 12699, 25567), (129000, 145063, 36660, 52814)]\n",
      "139316\n"
     ]
    }
   ],
   "source": [
    "origin=[[],[]]\n",
    "for i in match_list:\n",
    "    origin[0].append([i.l,i.r])\n",
    "    origin[1].append([i.scorelist[0][1],i.scorelist[0][2]])\n",
    "\n",
    "def trans(data):\n",
    "    l=[]\n",
    "    for i in range(len(data[0])):\n",
    "        l.append((data[0][i][0],data[0][i][1],data[1][i][0],data[1][i][1]))\n",
    "    return l\n",
    "print(origin)\n",
    "print(trans(origin))\n",
    "print(calculate_value(trans(origin),reference,sample,30))\n"
   ]
  },
  {
   "cell_type": "code",
   "execution_count": null,
   "metadata": {},
   "outputs": [
    {
     "name": "stdout",
     "output_type": "stream",
     "text": [
      "0 139320 [(0, 11294, 870, 12198), (11294, 14400, 34391, 37513), (14400, 20800, 31964, 38398), (20800, 27200, 32851, 39244), (27200, 30400, 33697, 36950), (30400, 36800, 31401, 37812), (36800, 43200, 32266, 38713), (43200, 56000, 33166, 46056), (56000, 68800, 29416, 42328), (68800, 81600, 20146, 33012), (81600, 90600, 16376, 25455), (90600, 103400, 20312, 33151), (103400, 116200, 16516, 29341), (116200, 129000, 12699, 25567), (129000, 145063, 36660, 52814)]\n",
      "1 139327 [(0, 11294, 870, 12198), (11294, 14767, 34391, 37884), (14767, 20800, 32342, 38398), (20800, 27200, 32851, 39244), (27200, 30400, 33697, 36950), (30400, 36800, 31401, 37812), (36800, 43200, 32266, 38713), (43200, 56000, 33166, 46056), (56000, 68800, 29416, 42328), (68800, 81600, 20146, 33012), (81600, 90600, 16376, 25455), (90600, 103400, 20312, 33151), (103400, 116200, 16516, 29341), (116200, 129000, 12699, 25567), (129000, 145063, 36660, 52814)]\n",
      "2 139331 [(0, 11294, 870, 12198), (11294, 14767, 34391, 37884), (14767, 20634, 32342, 38225), (20634, 27200, 32684, 39244), (27200, 30400, 33697, 36950), (30400, 36800, 31401, 37812), (36800, 43200, 32266, 38713), (43200, 56000, 33166, 46056), (56000, 68800, 29416, 42328), (68800, 81600, 20146, 33012), (81600, 90600, 16376, 25455), (90600, 103400, 20312, 33151), (103400, 116200, 16516, 29341), (116200, 129000, 12699, 25567), (129000, 145063, 36660, 52814)]\n",
      "3 139334 [(0, 11294, 870, 12198), (11294, 14767, 34391, 37884), (14767, 20634, 32342, 38225), (20634, 27263, 32684, 39307), (27263, 30400, 33763, 36950), (30400, 36800, 31401, 37812), (36800, 43200, 32266, 38713), (43200, 56000, 33166, 46056), (56000, 68800, 29416, 42328), (68800, 81600, 20146, 33012), (81600, 90600, 16376, 25455), (90600, 103400, 20312, 33151), (103400, 116200, 16516, 29341), (116200, 129000, 12699, 25567), (129000, 145063, 36660, 52814)]\n",
      "4 139338 [(0, 11294, 870, 12198), (11294, 14767, 34391, 37884), (14767, 20634, 32342, 38225), (20634, 27263, 32684, 39307), (27263, 30427, 33763, 36981), (30427, 36800, 31436, 37812), (36800, 43200, 32266, 38713), (43200, 56000, 33166, 46056), (56000, 68800, 29416, 42328), (68800, 81600, 20146, 33012), (81600, 90600, 16376, 25455), (90600, 103400, 20312, 33151), (103400, 116200, 16516, 29341), (116200, 129000, 12699, 25567), (129000, 145063, 36660, 52814)]\n",
      "5 139341 [(0, 11294, 870, 12198), (11294, 14767, 34391, 37884), (14767, 20634, 32342, 38225), (20634, 27263, 32684, 39307), (27263, 30427, 33763, 36981), (30427, 37055, 31436, 38066), (37055, 43200, 32520, 38713), (43200, 56000, 33166, 46056), (56000, 68800, 29416, 42328), (68800, 81600, 20146, 33012), (81600, 90600, 16376, 25455), (90600, 103400, 20312, 33151), (103400, 116200, 16516, 29341), (116200, 129000, 12699, 25567), (129000, 145063, 36660, 52814)]\n",
      "6 139342 [(0, 11294, 870, 12198), (11294, 14767, 34391, 37884), (14767, 20634, 32342, 38225), (20634, 27263, 32684, 39307), (27263, 30427, 33763, 36981), (30427, 37055, 31436, 38066), (37055, 43248, 32520, 38760), (43248, 56000, 33213, 46056), (56000, 68800, 29416, 42328), (68800, 81600, 20146, 33012), (81600, 90600, 16376, 25455), (90600, 103400, 20312, 33151), (103400, 116200, 16516, 29341), (116200, 129000, 12699, 25567), (129000, 145063, 36660, 52814)]\n",
      "7 139343 [(0, 11294, 870, 12198), (11294, 14767, 34391, 37884), (14767, 20634, 32342, 38225), (20634, 27263, 32684, 39307), (27263, 30427, 33763, 36981), (30427, 37055, 31436, 38066), (37055, 43248, 32520, 38760), (43248, 55959, 33213, 46014), (55959, 68800, 29373, 42328), (68800, 81600, 20146, 33012), (81600, 90600, 16376, 25455), (90600, 103400, 20312, 33151), (103400, 116200, 16516, 29341), (116200, 129000, 12699, 25567), (129000, 145063, 36660, 52814)]\n",
      "8 139346 [(0, 11294, 870, 12198), (11294, 14767, 34391, 37884), (14767, 20634, 32342, 38225), (20634, 27263, 32684, 39307), (27263, 30427, 33763, 36981), (30427, 37055, 31436, 38066), (37055, 43248, 32520, 38760), (43248, 55959, 33213, 46014), (55959, 68470, 29373, 41995), (68470, 81600, 19810, 33012), (81600, 90600, 16376, 25455), (90600, 103400, 20312, 33151), (103400, 116200, 16516, 29341), (116200, 129000, 12699, 25567), (129000, 145063, 36660, 52814)]\n",
      "9 139351 [(0, 11294, 870, 12198), (11294, 14767, 34391, 37884), (14767, 20634, 32342, 38225), (20634, 27263, 32684, 39307), (27263, 30427, 33763, 36981), (30427, 37055, 31436, 38066), (37055, 43248, 32520, 38760), (43248, 55959, 33213, 46014), (55959, 68470, 29373, 41995), (68470, 81586, 19810, 32992), (81586, 90600, 16363, 25455), (90600, 103400, 20312, 33151), (103400, 116200, 16516, 29341), (116200, 129000, 12699, 25567), (129000, 145063, 36660, 52814)]\n",
      "10 139374 [(0, 11294, 870, 12198), (11294, 14767, 34391, 37884), (14767, 20634, 32342, 38225), (20634, 27263, 32684, 39307), (27263, 30427, 33763, 36981), (30427, 37055, 31436, 38066), (37055, 43248, 32520, 38760), (43248, 55959, 33213, 46014), (55959, 68470, 29373, 41995), (68470, 81586, 19810, 32992), (81586, 90548, 16362, 25418), (90548, 103400, 20258, 33152), (103400, 116200, 16516, 29341), (116200, 129000, 12699, 25567), (129000, 145063, 36660, 52814)]\n",
      "11 139375 [(0, 11294, 870, 12198), (11294, 14767, 34391, 37884), (14767, 20634, 32342, 38225), (20634, 27263, 32684, 39307), (27263, 30427, 33763, 36981), (30427, 37055, 31436, 38066), (37055, 43248, 32520, 38760), (43248, 55959, 33213, 46014), (55959, 68470, 29373, 41995), (68470, 81586, 19810, 32992), (81586, 90548, 16362, 25418), (90548, 103676, 20259, 33427), (103676, 116200, 16791, 29341), (116200, 129000, 12699, 25567), (129000, 145063, 36660, 52814)]\n",
      "12 139378 [(0, 11294, 870, 12198), (11294, 14767, 34391, 37884), (14767, 20634, 32342, 38225), (20634, 27263, 32684, 39307), (27263, 30427, 33763, 36981), (30427, 37055, 31436, 38066), (37055, 43248, 32520, 38760), (43248, 55959, 33213, 46014), (55959, 68470, 29373, 41995), (68470, 81586, 19810, 32992), (81586, 90548, 16362, 25418), (90548, 103676, 20259, 33427), (103676, 116064, 16791, 29201), (116064, 129000, 12563, 25567), (129000, 145063, 36660, 52814)]\n",
      "13 139380 [(0, 11294, 870, 12198), (11294, 14767, 34391, 37884), (14767, 20634, 32342, 38225), (20634, 27263, 32684, 39307), (27263, 30427, 33763, 36981), (30427, 37055, 31436, 38066), (37055, 43248, 32520, 38760), (43248, 55959, 33213, 46014), (55959, 68470, 29373, 41995), (68470, 81586, 19810, 32992), (81586, 90548, 16362, 25418), (90548, 103676, 20259, 33427), (103676, 116064, 16791, 29201), (116064, 129078, 12563, 25645), (129078, 145063, 36740, 52815)]\n",
      "14 139380 [(0, 11294, 870, 12198), (11294, 14767, 34391, 37884), (14767, 20634, 32342, 38225), (20634, 27263, 32684, 39307), (27263, 30427, 33763, 36981), (30427, 37055, 31436, 38066), (37055, 43248, 32520, 38760), (43248, 55959, 33213, 46014), (55959, 68470, 29373, 41995), (68470, 81586, 19810, 32992), (81586, 90548, 16362, 25418), (90548, 103676, 20259, 33427), (103676, 116064, 16791, 29201), (116064, 129078, 12563, 25645), (129078, 145063, 36740, 52815)]\n",
      "15 139380 [(0, 11294, 870, 12198), (11294, 14767, 34391, 37884), (14767, 20634, 32342, 38225), (20634, 27263, 32684, 39307), (27263, 30427, 33763, 36981), (30427, 37055, 31436, 38066), (37055, 43248, 32520, 38760), (43248, 55959, 33213, 46014), (55959, 68470, 29373, 41995), (68470, 81586, 19810, 32992), (81586, 90548, 16362, 25418), (90548, 103676, 20259, 33427), (103676, 116064, 16791, 29201), (116064, 129078, 12563, 25645), (129078, 145063, 36740, 52815)]\n",
      "16 139380 [(0, 11294, 870, 12198), (11294, 14767, 34391, 37884), (14767, 20634, 32342, 38225), (20634, 27263, 32684, 39307), (27263, 30427, 33763, 36981), (30427, 37055, 31436, 38066), (37055, 43248, 32520, 38760), (43248, 55959, 33213, 46014), (55959, 68470, 29373, 41995), (68470, 81586, 19810, 32992), (81586, 90548, 16362, 25418), (90548, 103676, 20259, 33427), (103676, 116064, 16791, 29201), (116064, 129078, 12563, 25645), (129078, 145063, 36740, 52815)]\n",
      "17 139380 [(0, 11294, 870, 12198), (11294, 14767, 34391, 37884), (14767, 20634, 32342, 38225), (20634, 27263, 32684, 39307), (27263, 30427, 33763, 36981), (30427, 37055, 31436, 38066), (37055, 43248, 32520, 38760), (43248, 55959, 33213, 46014), (55959, 68470, 29373, 41995), (68470, 81586, 19810, 32992), (81586, 90548, 16362, 25418), (90548, 103676, 20259, 33427), (103676, 116064, 16791, 29201), (116064, 129078, 12563, 25645), (129078, 145063, 36740, 52815)]\n",
      "18 139380 [(0, 11294, 870, 12198), (11294, 14767, 34391, 37884), (14767, 20634, 32342, 38225), (20634, 27263, 32684, 39307), (27263, 30427, 33763, 36981), (30427, 37055, 31436, 38066), (37055, 43248, 32520, 38760), (43248, 55959, 33213, 46014), (55959, 68470, 29373, 41995), (68470, 81586, 19810, 32992), (81586, 90548, 16362, 25418), (90548, 103676, 20259, 33427), (103676, 116064, 16791, 29201), (116064, 129078, 12563, 25645), (129078, 145063, 36740, 52815)]\n",
      "19 139384 [(0, 11294, 870, 12198), (11294, 14767, 34391, 37884), (14767, 20634, 32342, 38225), (20634, 27263, 32684, 39307), (27263, 30427, 33763, 36981), (30427, 37415, 31436, 38427), (37415, 43248, 32885, 38760), (43248, 55959, 33213, 46014), (55959, 68470, 29373, 41995), (68470, 81586, 19810, 32992), (81586, 90548, 16362, 25418), (90548, 103676, 20259, 33427), (103676, 116064, 16791, 29201), (116064, 129078, 12563, 25645), (129078, 145063, 36740, 52815)]\n",
      "20 139385 [(0, 11294, 870, 12198), (11294, 14767, 34391, 37884), (14767, 20634, 32342, 38225), (20634, 27263, 32684, 39307), (27263, 30427, 33763, 36981), (30427, 37415, 31436, 38427), (37415, 43487, 32885, 38997), (43487, 55959, 33451, 46014), (55959, 68470, 29373, 41995), (68470, 81586, 19810, 32992), (81586, 90548, 16362, 25418), (90548, 103676, 20259, 33427), (103676, 116064, 16791, 29201), (116064, 129078, 12563, 25645), (129078, 145063, 36740, 52815)]\n",
      "21 139385 [(0, 11294, 870, 12198), (11294, 14767, 34391, 37884), (14767, 20634, 32342, 38225), (20634, 27263, 32684, 39307), (27263, 30427, 33763, 36981), (30427, 37415, 31436, 38427), (37415, 43487, 32885, 38997), (43487, 55959, 33451, 46014), (55959, 68470, 29373, 41995), (68470, 81586, 19810, 32992), (81586, 90548, 16362, 25418), (90548, 103676, 20259, 33427), (103676, 116064, 16791, 29201), (116064, 129078, 12563, 25645), (129078, 145063, 36740, 52815)]\n",
      "22 139385 [(0, 11294, 870, 12198), (11294, 14767, 34391, 37884), (14767, 20634, 32342, 38225), (20634, 27263, 32684, 39307), (27263, 30427, 33763, 36981), (30427, 37415, 31436, 38427), (37415, 43487, 32885, 38997), (43487, 55959, 33451, 46014), (55959, 68470, 29373, 41995), (68470, 81586, 19810, 32992), (81586, 90548, 16362, 25418), (90548, 103676, 20259, 33427), (103676, 116064, 16791, 29201), (116064, 129078, 12563, 25645), (129078, 145063, 36740, 52815)]\n",
      "23 139385 [(0, 11294, 870, 12198), (11294, 14767, 34391, 37884), (14767, 20634, 32342, 38225), (20634, 27263, 32684, 39307), (27263, 30427, 33763, 36981), (30427, 37415, 31436, 38427), (37415, 43487, 32885, 38997), (43487, 55959, 33451, 46014), (55959, 68470, 29373, 41995), (68470, 81586, 19810, 32992), (81586, 90548, 16362, 25418), (90548, 103676, 20259, 33427), (103676, 116064, 16791, 29201), (116064, 129078, 12563, 25645), (129078, 145063, 36740, 52815)]\n",
      "24 139385 [(0, 11294, 870, 12198), (11294, 14767, 34391, 37884), (14767, 20634, 32342, 38225), (20634, 27263, 32684, 39307), (27263, 30427, 33763, 36981), (30427, 37415, 31436, 38427), (37415, 43487, 32885, 38997), (43487, 55959, 33451, 46014), (55959, 68470, 29373, 41995), (68470, 81586, 19810, 32992), (81586, 90548, 16362, 25418), (90548, 103676, 20259, 33427), (103676, 116064, 16791, 29201), (116064, 129078, 12563, 25645), (129078, 145063, 36740, 52815)]\n",
      "25 139386 [(0, 11294, 870, 12198), (11294, 14767, 34391, 37884), (14767, 20634, 32342, 38225), (20634, 27263, 32684, 39307), (27263, 30427, 33763, 36981), (30427, 37415, 31436, 38427), (37415, 43487, 32885, 38997), (43487, 55959, 33451, 46014), (55959, 68470, 29373, 41995), (68470, 81586, 19810, 32992), (81586, 90548, 16362, 25418), (90548, 103637, 20259, 33389), (103637, 116064, 16752, 29201), (116064, 129078, 12563, 25645), (129078, 145063, 36740, 52815)]\n",
      "26 139386 [(0, 11294, 870, 12198), (11294, 14767, 34391, 37884), (14767, 20634, 32342, 38225), (20634, 27263, 32684, 39307), (27263, 30427, 33763, 36981), (30427, 37415, 31436, 38427), (37415, 43487, 32885, 38997), (43487, 55959, 33451, 46014), (55959, 68470, 29373, 41995), (68470, 81586, 19810, 32992), (81586, 90548, 16362, 25418), (90548, 103637, 20259, 33389), (103637, 116064, 16752, 29201), (116064, 129078, 12563, 25645), (129078, 145063, 36740, 52815)]\n",
      "27 139386 [(0, 11294, 870, 12198), (11294, 14767, 34391, 37884), (14767, 20634, 32342, 38225), (20634, 27263, 32684, 39307), (27263, 30427, 33763, 36981), (30427, 37415, 31436, 38427), (37415, 43487, 32885, 38997), (43487, 55959, 33451, 46014), (55959, 68470, 29373, 41995), (68470, 81586, 19810, 32992), (81586, 90548, 16362, 25418), (90548, 103637, 20259, 33389), (103637, 116064, 16752, 29201), (116064, 129078, 12563, 25645), (129078, 145063, 36740, 52815)]\n",
      "28 139386 [(0, 11294, 870, 12198), (11294, 14767, 34391, 37884), (14767, 20634, 32342, 38225), (20634, 27263, 32684, 39307), (27263, 30427, 33763, 36981), (30427, 37415, 31436, 38427), (37415, 43487, 32885, 38997), (43487, 55959, 33451, 46014), (55959, 68470, 29373, 41995), (68470, 81586, 19810, 32992), (81586, 90548, 16362, 25418), (90548, 103637, 20259, 33389), (103637, 116064, 16752, 29201), (116064, 129078, 12563, 25645), (129078, 145063, 36740, 52815)]\n",
      "29 139386 [(0, 11294, 870, 12198), (11294, 14767, 34391, 37884), (14767, 20634, 32342, 38225), (20634, 27263, 32684, 39307), (27263, 30427, 33763, 36981), (30427, 37415, 31436, 38427), (37415, 43487, 32885, 38997), (43487, 55959, 33451, 46014), (55959, 68470, 29373, 41995), (68470, 81586, 19810, 32992), (81586, 90548, 16362, 25418), (90548, 103637, 20259, 33389), (103637, 116064, 16752, 29201), (116064, 129078, 12563, 25645), (129078, 145063, 36740, 52815)]\n",
      "30 139386 [(0, 11294, 870, 12198), (11294, 14767, 34391, 37884), (14767, 20634, 32342, 38225), (20634, 27263, 32684, 39307), (27263, 30427, 33763, 36981), (30427, 37415, 31436, 38427), (37415, 43487, 32885, 38997), (43487, 55959, 33451, 46014), (55959, 68470, 29373, 41995), (68470, 81586, 19810, 32992), (81586, 90548, 16362, 25418), (90548, 103637, 20259, 33389), (103637, 116064, 16752, 29201), (116064, 129078, 12563, 25645), (129078, 145063, 36740, 52815)]\n",
      "31 139386 [(0, 11294, 870, 12198), (11294, 14767, 34391, 37884), (14767, 20634, 32342, 38225), (20634, 27263, 32684, 39307), (27263, 30427, 33763, 36981), (30427, 37415, 31436, 38427), (37415, 43487, 32885, 38997), (43487, 55959, 33451, 46014), (55959, 68470, 29373, 41995), (68470, 81586, 19810, 32992), (81586, 90548, 16362, 25418), (90548, 103637, 20259, 33389), (103637, 116064, 16752, 29201), (116064, 129078, 12563, 25645), (129078, 145063, 36740, 52815)]\n",
      "32 139386 [(0, 11294, 870, 12198), (11294, 14767, 34391, 37884), (14767, 20634, 32342, 38225), (20634, 27263, 32684, 39307), (27263, 30427, 33763, 36981), (30427, 37415, 31436, 38427), (37415, 43487, 32885, 38997), (43487, 55959, 33451, 46014), (55959, 68470, 29373, 41995), (68470, 81586, 19810, 32992), (81586, 90548, 16362, 25418), (90548, 103637, 20259, 33389), (103637, 116064, 16752, 29201), (116064, 129078, 12563, 25645), (129078, 145063, 36740, 52815)]\n",
      "33 139386 [(0, 11294, 870, 12198), (11294, 14767, 34391, 37884), (14767, 20634, 32342, 38225), (20634, 27263, 32684, 39307), (27263, 30427, 33763, 36981), (30427, 37415, 31436, 38427), (37415, 43487, 32885, 38997), (43487, 55959, 33451, 46014), (55959, 68470, 29373, 41995), (68470, 81586, 19810, 32992), (81586, 90548, 16362, 25418), (90548, 103637, 20259, 33389), (103637, 116064, 16752, 29201), (116064, 129078, 12563, 25645), (129078, 145063, 36740, 52815)]\n",
      "34 139386 [(0, 11294, 870, 12198), (11294, 14767, 34391, 37884), (14767, 20634, 32342, 38225), (20634, 27263, 32684, 39307), (27263, 30427, 33763, 36981), (30427, 37415, 31436, 38427), (37415, 43487, 32885, 38997), (43487, 55959, 33451, 46014), (55959, 68470, 29373, 41995), (68470, 81586, 19810, 32992), (81586, 90548, 16362, 25418), (90548, 103637, 20259, 33389), (103637, 116064, 16752, 29201), (116064, 129078, 12563, 25645), (129078, 145063, 36740, 52815)]\n",
      "35 139388 [(0, 11294, 870, 12198), (11294, 14767, 34391, 37884), (14767, 20634, 32342, 38225), (20634, 27263, 32684, 39307), (27263, 30427, 33763, 36981), (30427, 37415, 31436, 38427), (37415, 43487, 32885, 38997), (43487, 55825, 33451, 45878), (55825, 68470, 29234, 41995), (68470, 81586, 19810, 32992), (81586, 90548, 16362, 25418), (90548, 103637, 20259, 33389), (103637, 116064, 16752, 29201), (116064, 129078, 12563, 25645), (129078, 145063, 36740, 52815)]\n",
      "36 139388 [(0, 11294, 870, 12198), (11294, 14767, 34391, 37884), (14767, 20634, 32342, 38225), (20634, 27263, 32684, 39307), (27263, 30427, 33763, 36981), (30427, 37415, 31436, 38427), (37415, 43487, 32885, 38997), (43487, 55825, 33451, 45878), (55825, 68470, 29234, 41995), (68470, 81586, 19810, 32992), (81586, 90548, 16362, 25418), (90548, 103637, 20259, 33389), (103637, 116064, 16752, 29201), (116064, 129078, 12563, 25645), (129078, 145063, 36740, 52815)]\n",
      "37 139388 [(0, 11294, 870, 12198), (11294, 14767, 34391, 37884), (14767, 20634, 32342, 38225), (20634, 27263, 32684, 39307), (27263, 30427, 33763, 36981), (30427, 37415, 31436, 38427), (37415, 43487, 32885, 38997), (43487, 55825, 33451, 45878), (55825, 68470, 29234, 41995), (68470, 81586, 19810, 32992), (81586, 90548, 16362, 25418), (90548, 103637, 20259, 33389), (103637, 116064, 16752, 29201), (116064, 129078, 12563, 25645), (129078, 145063, 36740, 52815)]\n",
      "38 139388 [(0, 11294, 870, 12198), (11294, 14767, 34391, 37884), (14767, 20634, 32342, 38225), (20634, 27263, 32684, 39307), (27263, 30427, 33763, 36981), (30427, 37415, 31436, 38427), (37415, 43487, 32885, 38997), (43487, 55825, 33451, 45878), (55825, 68470, 29234, 41995), (68470, 81586, 19810, 32992), (81586, 90548, 16362, 25418), (90548, 103637, 20259, 33389), (103637, 116064, 16752, 29201), (116064, 129078, 12563, 25645), (129078, 145063, 36740, 52815)]\n",
      "39 139388 [(0, 11294, 870, 12198), (11294, 14767, 34391, 37884), (14767, 20634, 32342, 38225), (20634, 27263, 32684, 39307), (27263, 30427, 33763, 36981), (30427, 37415, 31436, 38427), (37415, 43487, 32885, 38997), (43487, 55825, 33451, 45878), (55825, 68470, 29234, 41995), (68470, 81586, 19810, 32992), (81586, 90548, 16362, 25418), (90548, 103637, 20259, 33389), (103637, 116064, 16752, 29201), (116064, 129078, 12563, 25645), (129078, 145063, 36740, 52815)]\n",
      "40 139388 [(0, 11294, 870, 12198), (11294, 14767, 34391, 37884), (14767, 20634, 32342, 38225), (20634, 27263, 32684, 39307), (27263, 30427, 33763, 36981), (30427, 37415, 31436, 38427), (37415, 43487, 32885, 38997), (43487, 55825, 33451, 45878), (55825, 68470, 29234, 41995), (68470, 81586, 19810, 32992), (81586, 90548, 16362, 25418), (90548, 103637, 20259, 33389), (103637, 116064, 16752, 29201), (116064, 129078, 12563, 25645), (129078, 145063, 36740, 52815)]\n"
     ]
    }
   ],
   "source": [
    "import numpy as np\n",
    "def trans(data):\n",
    "    l=[]\n",
    "    for i in range(len(data[0])):\n",
    "        l.append((data[0][i][0],data[0][i][1],data[1][i][0],data[1][i][1]))\n",
    "    return l\n",
    "\n",
    "def scoring(data):\n",
    "    return calculate_value(trans(data),reference,sample,30)\n",
    "\n",
    "for round in range(100):\n",
    "    l=round%(len(origin[0])-1)\n",
    "    origin1=[\n",
    "        [origin[0][l][0],origin[0][l][1],origin[0][l+1][1]],\n",
    "        [[origin[1][l][0],origin[1][l][1]],[origin[1][l+1][0],origin[1][l+1][1]]]\n",
    "    ]\n",
    "    saml=0 if l==0 else origin[0][l-1][1]\n",
    "    samr=len(sample) if l+1==len(origin[0])-1 else origin[0][l+2][0]\n",
    "\n",
    "    def update1(data,t0):\n",
    "        newdata=copy.deepcopy(data)\n",
    "        dv=max(int(t0),1)\n",
    "        for i in range(len(data[0])):\n",
    "            newdata[0][i]=np.clip(data[0][i]+np.random.randint(-dv,dv),saml,samr)\n",
    "        newdata[0].sort()\n",
    "\n",
    "        for i in range(len(data[1])):\n",
    "            def update1(data,t0):\n",
    "                dv=max(int(t0),10)\n",
    "                newdata:list=copy.deepcopy(data)\n",
    "                newdata[0]=newdata[0]+np.random.randint(-dv,dv)\n",
    "                newdata[0]=np.clip(newdata[0],0,len(reference))\n",
    "                newdata[1]=newdata[1]+np.random.randint(-dv,dv)\n",
    "                newdata[1]=np.clip(newdata[1],0,len(reference))\n",
    "                newdata.sort()\n",
    "                return newdata\n",
    "            def scoring1(data1):\n",
    "                return calculate_value([(newdata[0][i],newdata[0][i+1],data1[0],data1[1])],reference,sample,30)\n",
    "            \n",
    "            newdata[1][i],score=simulated_annealing(data[1][i],update1,scoring1,t0,0.96,10)\n",
    "        return newdata\n",
    "    \n",
    "    def trans1(data):\n",
    "        l=[]\n",
    "        for i in range(len(data[1])):\n",
    "            l.append((data[0][i],data[0][i+1],data[1][i][0],data[1][i][1]))\n",
    "        return l\n",
    "\n",
    "    def scoring1(data):\n",
    "        return calculate_value(trans1(data),reference,sample,30)\n",
    "    \n",
    "    data1,score=simulated_annealing(origin1,update1,scoring1,200,0.96,10)\n",
    "    origin[0][l],origin[0][l+1]=(data1[0][0],data1[0][1]),(data1[0][1],data1[0][2])\n",
    "    origin[1][l],origin[1][l+1]=data1[1][0],data1[1][1]\n",
    "    print(round,scoring(origin),trans(origin),sep=\" \")\n",
    "\n",
    "\n",
    "print(trans(origin))\n",
    "print(scoring(origin))    "
   ]
  }
 ],
 "metadata": {
  "kernelspec": {
   "display_name": "Python 3",
   "language": "python",
   "name": "python3"
  },
  "language_info": {
   "codemirror_mode": {
    "name": "ipython",
    "version": 3
   },
   "file_extension": ".py",
   "mimetype": "text/x-python",
   "name": "python",
   "nbconvert_exporter": "python",
   "pygments_lexer": "ipython3",
   "version": "3.8.20"
  }
 },
 "nbformat": 4,
 "nbformat_minor": 2
}
